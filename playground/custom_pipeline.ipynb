{
 "cells": [
  {
   "cell_type": "code",
   "execution_count": 7,
   "metadata": {},
   "outputs": [
    {
     "name": "stdout",
     "output_type": "stream",
     "text": [
      "The autoreload extension is already loaded. To reload it, use:\n",
      "  %reload_ext autoreload\n"
     ]
    },
    {
     "name": "stderr",
     "output_type": "stream",
     "text": [
      "[autoreload of nerfstudio.pipelines.nesf_pipeline failed: Traceback (most recent call last):\n",
      "  File \"/data/vision/polina/projects/wmh/dhollidt/conda/envs/nerfstudio/lib/python3.8/site-packages/IPython/extensions/autoreload.py\", line 261, in check\n",
      "    superreload(m, reload, self.old_objects)\n",
      "  File \"/data/vision/polina/projects/wmh/dhollidt/conda/envs/nerfstudio/lib/python3.8/site-packages/IPython/extensions/autoreload.py\", line 459, in superreload\n",
      "    module = reload(module)\n",
      "  File \"/data/vision/polina/projects/wmh/dhollidt/conda/envs/nerfstudio/lib/python3.8/importlib/__init__.py\", line 169, in reload\n",
      "    _bootstrap._exec(spec, module)\n",
      "  File \"<frozen importlib._bootstrap>\", line 604, in _exec\n",
      "  File \"<frozen importlib._bootstrap_external>\", line 843, in exec_module\n",
      "  File \"<frozen importlib._bootstrap>\", line 219, in _call_with_frames_removed\n",
      "  File \"/data/vision/polina/projects/wmh/dhollidt/documents/nerf/nerfstudio_fork/nerfstudio/pipelines/nesf_pipeline.py\", line 33, in <module>\n",
      "    class NesfPipelineConfig(cfg.InstantiateConfig):\n",
      "  File \"/data/vision/polina/projects/wmh/dhollidt/documents/nerf/nerfstudio_fork/nerfstudio/pipelines/nesf_pipeline.py\", line 38, in NesfPipelineConfig\n",
      "    datamanager: NesfDataManager = NesfDataManager()\n",
      "TypeError: __init__() missing 1 required positional argument: 'config'\n",
      "]\n"
     ]
    }
   ],
   "source": [
    "%load_ext autoreload\n",
    "%autoreload 2\n",
    "\n",
    "# import all the necessary modules\n",
    "from pathlib import Path\n",
    "import random\n",
    "\n",
    "from nerfstudio.models.nerfacto import NerfactoModelConfig\n",
    "from nerfstudio.configs.base_config import ViewerConfig\n",
    "from nerfstudio.configs.experiment_config import ExperimentConfig\n",
    "from nerfstudio.pipelines.nesf_pipeline import NesfPipelineConfig\n",
    "from nerfstudio.data.datamanagers.nesf_datamanager import NesfDataManagerConfig\n",
    "from nerfstudio.data.dataparsers.nesf_dataparser import NesfDataParserConfig\n",
    "from nerfstudio.cameras.camera_optimizers import CameraOptimizerConfig\n",
    "from nerfstudio.engine.optimizers import AdamOptimizerConfig, RAdamOptimizerConfig\n",
    "from nerfstudio.engine.trainer import TrainerConfig\n",
    "import torch\n",
    "\n",
    "from utils import *"
   ]
  },
  {
   "cell_type": "code",
   "execution_count": 8,
   "metadata": {},
   "outputs": [
    {
     "data": {
      "text/html": [
       "<pre style=\"white-space:pre;overflow-x:auto;line-height:normal;font-family:Menlo,'DejaVu Sans Mono',consolas,'Courier New',monospace\"><span style=\"color: #7fbfbf; text-decoration-color: #7fbfbf\">[12:32:19] </span>Saving config to:                                                                    <a href=\"file:///data/vision/polina/projects/wmh/dhollidt/documents/nerf/nerfstudio_fork/nerfstudio/configs/experiment_config.py\" target=\"_blank\"><span style=\"color: #7f7f7f; text-decoration-color: #7f7f7f\">experiment_config.py</span></a><span style=\"color: #7f7f7f; text-decoration-color: #7f7f7f\">:</span><a href=\"file:///data/vision/polina/projects/wmh/dhollidt/documents/nerf/nerfstudio_fork/nerfstudio/configs/experiment_config.py#124\" target=\"_blank\"><span style=\"color: #7f7f7f; text-decoration-color: #7f7f7f\">124</span></a>\n",
       "<span style=\"color: #7fbfbf; text-decoration-color: #7fbfbf\">           </span><span style=\"color: #800080; text-decoration-color: #800080\">/data/vision/polina/projects/wmh/dhollidt/documents/nerf/playground/own_loading/tmp/</span> <span style=\"color: #7f7f7f; text-decoration-color: #7f7f7f\">                        </span>\n",
       "<span style=\"color: #7fbfbf; text-decoration-color: #7fbfbf\">           </span><span style=\"color: #800080; text-decoration-color: #800080\">nerfacto/2023-02-05_123219/</span><span style=\"color: #ff00ff; text-decoration-color: #ff00ff\">config.yml</span>                                                <span style=\"color: #7f7f7f; text-decoration-color: #7f7f7f\">                        </span>\n",
       "</pre>\n"
      ],
      "text/plain": [
       "\u001b[2;36m[12:32:19]\u001b[0m\u001b[2;36m \u001b[0mSaving config to:                                                                    \u001b]8;id=896854;file:///data/vision/polina/projects/wmh/dhollidt/documents/nerf/nerfstudio_fork/nerfstudio/configs/experiment_config.py\u001b\\\u001b[2mexperiment_config.py\u001b[0m\u001b]8;;\u001b\\\u001b[2m:\u001b[0m\u001b]8;id=46811;file:///data/vision/polina/projects/wmh/dhollidt/documents/nerf/nerfstudio_fork/nerfstudio/configs/experiment_config.py#124\u001b\\\u001b[2m124\u001b[0m\u001b]8;;\u001b\\\n",
       "\u001b[2;36m           \u001b[0m\u001b[35m/data/vision/polina/projects/wmh/dhollidt/documents/nerf/playground/own_loading/tmp/\u001b[0m \u001b[2m                        \u001b[0m\n",
       "\u001b[2;36m           \u001b[0m\u001b[35mnerfacto/2023-02-05_123219/\u001b[0m\u001b[95mconfig.yml\u001b[0m                                                \u001b[2m                        \u001b[0m\n"
      ]
     },
     "metadata": {},
     "output_type": "display_data"
    },
    {
     "data": {
      "text/html": [
       "<pre style=\"white-space:pre;overflow-x:auto;line-height:normal;font-family:Menlo,'DejaVu Sans Mono',consolas,'Courier New',monospace\"><span style=\"color: #7fbfbf; text-decoration-color: #7fbfbf\">[12:32:19] </span>Saving checkpoints to:                                                                         <a href=\"file:///data/vision/polina/projects/wmh/dhollidt/documents/nerf/nerfstudio_fork/nerfstudio/engine/trainer.py\" target=\"_blank\"><span style=\"color: #7f7f7f; text-decoration-color: #7f7f7f\">trainer.py</span></a><span style=\"color: #7f7f7f; text-decoration-color: #7f7f7f\">:</span><a href=\"file:///data/vision/polina/projects/wmh/dhollidt/documents/nerf/nerfstudio_fork/nerfstudio/engine/trainer.py#120\" target=\"_blank\"><span style=\"color: #7f7f7f; text-decoration-color: #7f7f7f\">120</span></a>\n",
       "<span style=\"color: #7fbfbf; text-decoration-color: #7fbfbf\">           </span><span style=\"color: #800080; text-decoration-color: #800080\">/data/vision/polina/projects/wmh/dhollidt/documents/nerf/playground/own_loading/tmp/nerfacto/2</span> <span style=\"color: #7f7f7f; text-decoration-color: #7f7f7f\">              </span>\n",
       "<span style=\"color: #7fbfbf; text-decoration-color: #7fbfbf\">           </span><span style=\"color: #800080; text-decoration-color: #800080\">023-02-05_123219/</span><span style=\"color: #ff00ff; text-decoration-color: #ff00ff\">nerfstudio_models</span>                                                             <span style=\"color: #7f7f7f; text-decoration-color: #7f7f7f\">              </span>\n",
       "</pre>\n"
      ],
      "text/plain": [
       "\u001b[2;36m[12:32:19]\u001b[0m\u001b[2;36m \u001b[0mSaving checkpoints to:                                                                         \u001b]8;id=829350;file:///data/vision/polina/projects/wmh/dhollidt/documents/nerf/nerfstudio_fork/nerfstudio/engine/trainer.py\u001b\\\u001b[2mtrainer.py\u001b[0m\u001b]8;;\u001b\\\u001b[2m:\u001b[0m\u001b]8;id=103638;file:///data/vision/polina/projects/wmh/dhollidt/documents/nerf/nerfstudio_fork/nerfstudio/engine/trainer.py#120\u001b\\\u001b[2m120\u001b[0m\u001b]8;;\u001b\\\n",
       "\u001b[2;36m           \u001b[0m\u001b[35m/data/vision/polina/projects/wmh/dhollidt/documents/nerf/playground/own_loading/tmp/nerfacto/2\u001b[0m \u001b[2m              \u001b[0m\n",
       "\u001b[2;36m           \u001b[0m\u001b[35m023-02-05_123219/\u001b[0m\u001b[95mnerfstudio_models\u001b[0m                                                             \u001b[2m              \u001b[0m\n"
      ]
     },
     "metadata": {},
     "output_type": "display_data"
    },
    {
     "data": {
      "text/html": [
       "<pre style=\"white-space:pre;overflow-x:auto;line-height:normal;font-family:Menlo,'DejaVu Sans Mono',consolas,'Courier New',monospace\"><span style=\"color: #808000; text-decoration-color: #808000; font-weight: bold\">logging events to: </span>\n",
       "<span style=\"color: #808000; text-decoration-color: #808000; font-weight: bold\">/data/vision/polina/projects/wmh/dhollidt/documents/nerf/playground/own_loading/tmp/nerfacto/2023-02-05_123219</span>\n",
       "</pre>\n"
      ],
      "text/plain": [
       "\u001b[1;33mlogging events to: \u001b[0m\n",
       "\u001b[1;33m/data/vision/polina/projects/wmh/dhollidt/documents/nerf/playground/own_loading/tmp/nerfacto/\u001b[0m\u001b[1;33m2023-02-05_123219\u001b[0m\n"
      ]
     },
     "metadata": {},
     "output_type": "display_data"
    },
    {
     "ename": "TypeError",
     "evalue": "__init__() missing 2 required positional arguments: 'config' and 'device'",
     "output_type": "error",
     "traceback": [
      "\u001b[0;31m---------------------------------------------------------------------------\u001b[0m",
      "\u001b[0;31mTypeError\u001b[0m                                 Traceback (most recent call last)",
      "Cell \u001b[0;32mIn[8], line 47\u001b[0m\n\u001b[1;32m     44\u001b[0m trainConfig\u001b[39m.\u001b[39msave_config()\n\u001b[1;32m     46\u001b[0m trainer \u001b[39m=\u001b[39m trainConfig\u001b[39m.\u001b[39msetup(local_rank\u001b[39m=\u001b[39m\u001b[39m0\u001b[39m, world_size\u001b[39m=\u001b[39m\u001b[39m1\u001b[39m)\n\u001b[0;32m---> 47\u001b[0m trainer\u001b[39m.\u001b[39;49msetup()\n",
      "File \u001b[0;32m/data/vision/polina/projects/wmh/dhollidt/documents/nerf/nerfstudio_fork/nerfstudio/engine/trainer.py:143\u001b[0m, in \u001b[0;36mTrainer.setup\u001b[0;34m(self, test_mode)\u001b[0m\n\u001b[1;32m    134\u001b[0m \u001b[39mdef\u001b[39;00m \u001b[39msetup\u001b[39m(\u001b[39mself\u001b[39m, test_mode: Literal[\u001b[39m\"\u001b[39m\u001b[39mtest\u001b[39m\u001b[39m\"\u001b[39m, \u001b[39m\"\u001b[39m\u001b[39mval\u001b[39m\u001b[39m\"\u001b[39m, \u001b[39m\"\u001b[39m\u001b[39minference\u001b[39m\u001b[39m\"\u001b[39m] \u001b[39m=\u001b[39m \u001b[39m\"\u001b[39m\u001b[39mval\u001b[39m\u001b[39m\"\u001b[39m):\n\u001b[1;32m    135\u001b[0m \u001b[39m    \u001b[39m\u001b[39m\"\"\"Setup the Trainer by calling other setup functions.\u001b[39;00m\n\u001b[1;32m    136\u001b[0m \n\u001b[1;32m    137\u001b[0m \u001b[39m    Args:\u001b[39;00m\n\u001b[0;32m   (...)\u001b[0m\n\u001b[1;32m    141\u001b[0m \u001b[39m            'inference': does not load any dataset into memory\u001b[39;00m\n\u001b[1;32m    142\u001b[0m \u001b[39m    \"\"\"\u001b[39;00m\n\u001b[0;32m--> 143\u001b[0m     \u001b[39mself\u001b[39m\u001b[39m.\u001b[39mpipeline \u001b[39m=\u001b[39m \u001b[39mself\u001b[39;49m\u001b[39m.\u001b[39;49mconfig\u001b[39m.\u001b[39;49mpipeline\u001b[39m.\u001b[39;49msetup(\n\u001b[1;32m    144\u001b[0m         device\u001b[39m=\u001b[39;49m\u001b[39mself\u001b[39;49m\u001b[39m.\u001b[39;49mdevice, test_mode\u001b[39m=\u001b[39;49mtest_mode, world_size\u001b[39m=\u001b[39;49m\u001b[39mself\u001b[39;49m\u001b[39m.\u001b[39;49mworld_size, local_rank\u001b[39m=\u001b[39;49m\u001b[39mself\u001b[39;49m\u001b[39m.\u001b[39;49mlocal_rank\n\u001b[1;32m    145\u001b[0m     )\n\u001b[1;32m    146\u001b[0m     \u001b[39mself\u001b[39m\u001b[39m.\u001b[39moptimizers \u001b[39m=\u001b[39m \u001b[39mself\u001b[39m\u001b[39m.\u001b[39msetup_optimizers()\n\u001b[1;32m    148\u001b[0m     \u001b[39mself\u001b[39m\u001b[39m.\u001b[39m_load_checkpoint()\n",
      "File \u001b[0;32m/data/vision/polina/projects/wmh/dhollidt/documents/nerf/nerfstudio_fork/nerfstudio/configs/base_config.py:57\u001b[0m, in \u001b[0;36mInstantiateConfig.setup\u001b[0;34m(self, **kwargs)\u001b[0m\n\u001b[1;32m     55\u001b[0m \u001b[39mdef\u001b[39;00m \u001b[39msetup\u001b[39m(\u001b[39mself\u001b[39m, \u001b[39m*\u001b[39m\u001b[39m*\u001b[39mkwargs) \u001b[39m-\u001b[39m\u001b[39m>\u001b[39m Any:\n\u001b[1;32m     56\u001b[0m \u001b[39m    \u001b[39m\u001b[39m\"\"\"Returns the instantiated object using the config.\"\"\"\u001b[39;00m\n\u001b[0;32m---> 57\u001b[0m     \u001b[39mreturn\u001b[39;00m \u001b[39mself\u001b[39;49m\u001b[39m.\u001b[39;49m_target(\u001b[39mself\u001b[39;49m, \u001b[39m*\u001b[39;49m\u001b[39m*\u001b[39;49mkwargs)\n",
      "File \u001b[0;32m/data/vision/polina/projects/wmh/dhollidt/documents/nerf/nerfstudio_fork/nerfstudio/pipelines/nesf_pipeline.py:67\u001b[0m, in \u001b[0;36mNesfPipeline.__init__\u001b[0;34m(self, config, device, test_mode, world_size, local_rank)\u001b[0m\n\u001b[1;32m     59\u001b[0m \u001b[39mdef\u001b[39;00m \u001b[39m__init__\u001b[39m(\n\u001b[1;32m     60\u001b[0m         \u001b[39mself\u001b[39m,\n\u001b[1;32m     61\u001b[0m         config: NesfPipelineConfig,\n\u001b[0;32m   (...)\u001b[0m\n\u001b[1;32m     65\u001b[0m         local_rank: \u001b[39mint\u001b[39m \u001b[39m=\u001b[39m \u001b[39m0\u001b[39m,\n\u001b[1;32m     66\u001b[0m ):\n\u001b[0;32m---> 67\u001b[0m     \u001b[39msuper\u001b[39;49m()\u001b[39m.\u001b[39;49m\u001b[39m__init__\u001b[39;49m()\n\u001b[1;32m     68\u001b[0m     \u001b[39mself\u001b[39m\u001b[39m.\u001b[39mconfig \u001b[39m=\u001b[39m config\n\u001b[1;32m     69\u001b[0m     \u001b[39mself\u001b[39m\u001b[39m.\u001b[39mtest_mode \u001b[39m=\u001b[39m test_mode\n",
      "\u001b[0;31mTypeError\u001b[0m: __init__() missing 2 required positional arguments: 'config' and 'device'"
     ]
    }
   ],
   "source": [
    "data_config_path = Path(\"/data/vision/polina/projects/wmh/dhollidt/documents/nerf/playground/nesf_test_config.json\")\n",
    "\n",
    "OUTPUT_DIR = Path(\"/data/vision/polina/projects/wmh/dhollidt/documents/nerf/playground/own_loading/\")\n",
    "DATA_PATH = Path(\"/data/vision/polina/scratch/clintonw/datasets/kubric/klevr/0\")\n",
    "\n",
    "\n",
    "trainConfig = TrainerConfig(\n",
    "    method_name=\"nerfacto\",\n",
    "    experiment_name=\"/tmp\",\n",
    "    data=DATA_PATH,\n",
    "    output_dir=OUTPUT_DIR,\n",
    "    steps_per_eval_batch=500,\n",
    "    steps_per_save=2000,\n",
    "    max_num_iterations=30000,\n",
    "    mixed_precision=True,\n",
    "    pipeline=NesfPipelineConfig(\n",
    "        datamanager=NesfDataManagerConfig(\n",
    "            dataparser=NesfDataParserConfig(data_config=data_config_path),\n",
    "            train_num_rays_per_batch=4096,\n",
    "            eval_num_rays_per_batch=4096,\n",
    "            camera_optimizer=CameraOptimizerConfig(\n",
    "                mode=\"off\", optimizer=AdamOptimizerConfig(lr=6e-4, eps=1e-8, weight_decay=1e-2)\n",
    "            ),\n",
    "        ),\n",
    "        model=NerfactoModelConfig(eval_num_rays_per_chunk=1 << 15),\n",
    "    ),\n",
    "    optimizers={\n",
    "        \"proposal_networks\": {\n",
    "            \"optimizer\": AdamOptimizerConfig(lr=1e-2, eps=1e-15),\n",
    "            \"scheduler\": None,\n",
    "        },\n",
    "        \"fields\": {\n",
    "            \"optimizer\": AdamOptimizerConfig(lr=1e-2, eps=1e-15),\n",
    "            \"scheduler\": None,\n",
    "        },\n",
    "    },\n",
    "    viewer=ViewerConfig(num_rays_per_chunk=1 << 15),\n",
    "    vis=\"tensorboard\"\n",
    ")\n",
    "\n",
    "\n",
    "trainConfig.set_timestamp()\n",
    "trainConfig.pipeline.datamanager.dataparser.data = trainConfig.data\n",
    "trainConfig.save_config()\n",
    "\n",
    "trainer = trainConfig.setup(local_rank=0, world_size=1)\n",
    "trainer.setup()"
   ]
  },
  {
   "cell_type": "code",
   "execution_count": null,
   "metadata": {},
   "outputs": [],
   "source": []
  }
 ],
 "metadata": {
  "kernelspec": {
   "display_name": "nerfstudio",
   "language": "python",
   "name": "python3"
  },
  "language_info": {
   "codemirror_mode": {
    "name": "ipython",
    "version": 3
   },
   "file_extension": ".py",
   "mimetype": "text/x-python",
   "name": "python",
   "nbconvert_exporter": "python",
   "pygments_lexer": "ipython3",
   "version": "3.8.15 (default, Nov 24 2022, 15:19:38) \n[GCC 11.2.0]"
  },
  "orig_nbformat": 4,
  "vscode": {
   "interpreter": {
    "hash": "6c5ae1af353cec79bff87769a350aa16b4bac4a4a3efb1bd3ac363089fa6152e"
   }
  }
 },
 "nbformat": 4,
 "nbformat_minor": 2
}
