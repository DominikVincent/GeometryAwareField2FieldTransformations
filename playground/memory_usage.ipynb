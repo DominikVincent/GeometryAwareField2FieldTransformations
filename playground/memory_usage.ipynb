{
 "cells": [
  {
   "cell_type": "code",
   "execution_count": 1,
   "metadata": {},
   "outputs": [
    {
     "name": "stderr",
     "output_type": "stream",
     "text": [
      "/data/vision/polina/projects/wmh/dhollidt/conda/envs/nerfstudio2/lib/python3.8/site-packages/torchvision/io/image.py:13: UserWarning: Failed to load image Python extension: /data/vision/polina/projects/wmh/dhollidt/conda/envs/nerfstudio2/lib/python3.8/site-packages/torchvision/image.so: undefined symbol: _ZN2at4_ops19empty_memory_format4callEN3c108ArrayRefIlEENS2_8optionalINS2_10ScalarTypeEEENS5_INS2_6LayoutEEENS5_INS2_6DeviceEEENS5_IbEENS5_INS2_12MemoryFormatEEE\n",
      "  warn(f\"Failed to load image Python extension: {e}\")\n"
     ]
    }
   ],
   "source": [
    "%load_ext autoreload\n",
    "%autoreload 2\n",
    "\n",
    "from nerfstudio.model_components.nesf_components import *\n",
    "import torch\n",
    "from torch.profiler import profile, record_function, ProfilerActivity"
   ]
  },
  {
   "cell_type": "code",
   "execution_count": 2,
   "metadata": {},
   "outputs": [
    {
     "name": "stdout",
     "output_type": "stream",
     "text": [
      "grid_size 0.004\n",
      "quant_size 0.001\n",
      "window_size 4\n",
      "patch_size 1\n",
      "patch_size 0.004\n",
      "patch_size 0.004\n",
      "window_sizes [0.016, 0.032, 0.064, 0.128]\n",
      "grid_sizes [0.004, 0.008, 0.016, 0.032]\n",
      "quant_sizes [0.001, 0.002, 0.004, 0.008]\n",
      "8089680\n"
     ]
    }
   ],
   "source": [
    "model = TranformerEncoderModelConfig(\n",
    "    num_layers=8,\n",
    "    num_heads=8,\n",
    "    dim_feed_forward=128,\n",
    "    feature_dim=128,\n",
    "    ).setup(input_size=103)\n",
    "\n",
    "model = StratifiedTransformerWrapperConfig().setup(input_size=103)\n",
    "\n",
    "# model prameters\n",
    "print(sum(p.numel() for p in model.parameters() if p.requires_grad))"
   ]
  },
  {
   "cell_type": "code",
   "execution_count": 3,
   "metadata": {},
   "outputs": [
    {
     "name": "stdout",
     "output_type": "stream",
     "text": [
      "cuda:0\n"
     ]
    }
   ],
   "source": [
    "model.to(\"cuda:0\")\n",
    "model.train()\n",
    "optimizer = torch.optim.SGD(model.parameters(), lr=0.01)\n",
    "print(next(model.parameters()).device)\n"
   ]
  },
  {
   "cell_type": "code",
   "execution_count": 15,
   "metadata": {},
   "outputs": [
    {
     "data": {
      "text/html": [
       "<pre style=\"white-space:pre;overflow-x:auto;line-height:normal;font-family:Menlo,'DejaVu Sans Mono',consolas,'Courier New',monospace\">StratifiedTransformerWrapper forward time:  <span style=\"color: #008080; text-decoration-color: #008080; font-weight: bold\">5.332539081573486</span>\n",
       "</pre>\n"
      ],
      "text/plain": [
       "StratifiedTransformerWrapper forward time:  \u001b[1;36m5.332539081573486\u001b[0m\n"
      ]
     },
     "metadata": {},
     "output_type": "display_data"
    },
    {
     "name": "stdout",
     "output_type": "stream",
     "text": [
      "Current memory usage: 4115.36 MB\n",
      " After clear  - Current memory usage: 4115.36 MB\n"
     ]
    },
    {
     "data": {
      "text/html": [
       "<pre style=\"white-space:pre;overflow-x:auto;line-height:normal;font-family:Menlo,'DejaVu Sans Mono',consolas,'Courier New',monospace\">StratifiedTransformerWrapper forward time:  <span style=\"color: #008080; text-decoration-color: #008080; font-weight: bold\">5.1529700756073</span>\n",
       "</pre>\n"
      ],
      "text/plain": [
       "StratifiedTransformerWrapper forward time:  \u001b[1;36m5.1529700756073\u001b[0m\n"
      ]
     },
     "metadata": {},
     "output_type": "display_data"
    },
    {
     "name": "stdout",
     "output_type": "stream",
     "text": [
      "Current memory usage: 4116.01 MB\n",
      " After clear  - Current memory usage: 4116.01 MB\n"
     ]
    },
    {
     "data": {
      "text/html": [
       "<pre style=\"white-space:pre;overflow-x:auto;line-height:normal;font-family:Menlo,'DejaVu Sans Mono',consolas,'Courier New',monospace\">StratifiedTransformerWrapper forward time:  <span style=\"color: #008080; text-decoration-color: #008080; font-weight: bold\">5.439337730407715</span>\n",
       "</pre>\n"
      ],
      "text/plain": [
       "StratifiedTransformerWrapper forward time:  \u001b[1;36m5.439337730407715\u001b[0m\n"
      ]
     },
     "metadata": {},
     "output_type": "display_data"
    },
    {
     "name": "stdout",
     "output_type": "stream",
     "text": [
      "Current memory usage: 4116.06 MB\n",
      " After clear  - Current memory usage: 4116.06 MB\n"
     ]
    },
    {
     "data": {
      "text/html": [
       "<pre style=\"white-space:pre;overflow-x:auto;line-height:normal;font-family:Menlo,'DejaVu Sans Mono',consolas,'Courier New',monospace\">StratifiedTransformerWrapper forward time:  <span style=\"color: #008080; text-decoration-color: #008080; font-weight: bold\">5.229464292526245</span>\n",
       "</pre>\n"
      ],
      "text/plain": [
       "StratifiedTransformerWrapper forward time:  \u001b[1;36m5.229464292526245\u001b[0m\n"
      ]
     },
     "metadata": {},
     "output_type": "display_data"
    },
    {
     "name": "stdout",
     "output_type": "stream",
     "text": [
      "Current memory usage: 4114.39 MB\n",
      " After clear  - Current memory usage: 4114.39 MB\n"
     ]
    },
    {
     "data": {
      "text/html": [
       "<pre style=\"white-space:pre;overflow-x:auto;line-height:normal;font-family:Menlo,'DejaVu Sans Mono',consolas,'Courier New',monospace\">StratifiedTransformerWrapper forward time:  <span style=\"color: #008080; text-decoration-color: #008080; font-weight: bold\">5.199592113494873</span>\n",
       "</pre>\n"
      ],
      "text/plain": [
       "StratifiedTransformerWrapper forward time:  \u001b[1;36m5.199592113494873\u001b[0m\n"
      ]
     },
     "metadata": {},
     "output_type": "display_data"
    },
    {
     "name": "stdout",
     "output_type": "stream",
     "text": [
      "Current memory usage: 4113.46 MB\n",
      " After clear  - Current memory usage: 4113.46 MB\n"
     ]
    },
    {
     "data": {
      "text/html": [
       "<pre style=\"white-space:pre;overflow-x:auto;line-height:normal;font-family:Menlo,'DejaVu Sans Mono',consolas,'Courier New',monospace\">StratifiedTransformerWrapper forward time:  <span style=\"color: #008080; text-decoration-color: #008080; font-weight: bold\">5.5295281410217285</span>\n",
       "</pre>\n"
      ],
      "text/plain": [
       "StratifiedTransformerWrapper forward time:  \u001b[1;36m5.5295281410217285\u001b[0m\n"
      ]
     },
     "metadata": {},
     "output_type": "display_data"
    },
    {
     "name": "stdout",
     "output_type": "stream",
     "text": [
      "Current memory usage: 4113.12 MB\n",
      " After clear  - Current memory usage: 4113.12 MB\n"
     ]
    },
    {
     "data": {
      "text/html": [
       "<pre style=\"white-space:pre;overflow-x:auto;line-height:normal;font-family:Menlo,'DejaVu Sans Mono',consolas,'Courier New',monospace\">StratifiedTransformerWrapper forward time:  <span style=\"color: #008080; text-decoration-color: #008080; font-weight: bold\">5.329776287078857</span>\n",
       "</pre>\n"
      ],
      "text/plain": [
       "StratifiedTransformerWrapper forward time:  \u001b[1;36m5.329776287078857\u001b[0m\n"
      ]
     },
     "metadata": {},
     "output_type": "display_data"
    },
    {
     "name": "stdout",
     "output_type": "stream",
     "text": [
      "Current memory usage: 4114.76 MB\n",
      " After clear  - Current memory usage: 4114.76 MB\n"
     ]
    },
    {
     "data": {
      "text/html": [
       "<pre style=\"white-space:pre;overflow-x:auto;line-height:normal;font-family:Menlo,'DejaVu Sans Mono',consolas,'Courier New',monospace\">StratifiedTransformerWrapper forward time:  <span style=\"color: #008080; text-decoration-color: #008080; font-weight: bold\">5.297401666641235</span>\n",
       "</pre>\n"
      ],
      "text/plain": [
       "StratifiedTransformerWrapper forward time:  \u001b[1;36m5.297401666641235\u001b[0m\n"
      ]
     },
     "metadata": {},
     "output_type": "display_data"
    },
    {
     "name": "stdout",
     "output_type": "stream",
     "text": [
      "Current memory usage: 4115.49 MB\n",
      " After clear  - Current memory usage: 4115.49 MB\n"
     ]
    },
    {
     "data": {
      "text/html": [
       "<pre style=\"white-space:pre;overflow-x:auto;line-height:normal;font-family:Menlo,'DejaVu Sans Mono',consolas,'Courier New',monospace\">StratifiedTransformerWrapper forward time:  <span style=\"color: #008080; text-decoration-color: #008080; font-weight: bold\">5.195030927658081</span>\n",
       "</pre>\n"
      ],
      "text/plain": [
       "StratifiedTransformerWrapper forward time:  \u001b[1;36m5.195030927658081\u001b[0m\n"
      ]
     },
     "metadata": {},
     "output_type": "display_data"
    },
    {
     "name": "stdout",
     "output_type": "stream",
     "text": [
      "Current memory usage: 4114.41 MB\n",
      " After clear  - Current memory usage: 4114.41 MB\n"
     ]
    },
    {
     "data": {
      "text/html": [
       "<pre style=\"white-space:pre;overflow-x:auto;line-height:normal;font-family:Menlo,'DejaVu Sans Mono',consolas,'Courier New',monospace\">StratifiedTransformerWrapper forward time:  <span style=\"color: #008080; text-decoration-color: #008080; font-weight: bold\">5.332430362701416</span>\n",
       "</pre>\n"
      ],
      "text/plain": [
       "StratifiedTransformerWrapper forward time:  \u001b[1;36m5.332430362701416\u001b[0m\n"
      ]
     },
     "metadata": {},
     "output_type": "display_data"
    },
    {
     "name": "stdout",
     "output_type": "stream",
     "text": [
      "Current memory usage: 4117.58 MB\n",
      " After clear  - Current memory usage: 4117.58 MB\n"
     ]
    }
   ],
   "source": [
    "for i in range(10):\n",
    "    input_data = torch.randn(1, 128000, 103, device=\"cuda:0\", requires_grad=True)\n",
    "    points_xyz = torch.randn(1, 128000, 3, device=\"cuda:0\", requires_grad=False)\n",
    "    output_data = torch.randn(1, 128000, 128, device=\"cuda:0\")\n",
    "    out = model(input_data, batch={\"points_xyz\": points_xyz})\n",
    "    print(f\"Current memory usage: {torch.cuda.memory_allocated() / 1024**2:.2f} MB\")\n",
    "    torch.cuda.empty_cache()\n",
    "    print(f\" After clear  - Current memory usage: {torch.cuda.memory_allocated() / 1024**2:.2f} MB\")\n",
    "    \n",
    "    "
   ]
  },
  {
   "cell_type": "code",
   "execution_count": 14,
   "metadata": {},
   "outputs": [],
   "source": []
  },
  {
   "cell_type": "code",
   "execution_count": 19,
   "metadata": {},
   "outputs": [
    {
     "data": {
      "text/html": [
       "<pre style=\"white-space:pre;overflow-x:auto;line-height:normal;font-family:Menlo,'DejaVu Sans Mono',consolas,'Courier New',monospace\">StratifiedTransformerWrapper forward time:  <span style=\"color: #008080; text-decoration-color: #008080; font-weight: bold\">0.48016786575317383</span>\n",
       "</pre>\n"
      ],
      "text/plain": [
       "StratifiedTransformerWrapper forward time:  \u001b[1;36m0.48016786575317383\u001b[0m\n"
      ]
     },
     "metadata": {},
     "output_type": "display_data"
    },
    {
     "data": {
      "text/html": [
       "<pre style=\"white-space:pre;overflow-x:auto;line-height:normal;font-family:Menlo,'DejaVu Sans Mono',consolas,'Courier New',monospace\">StratifiedTransformerWrapper forward time:  <span style=\"color: #008080; text-decoration-color: #008080; font-weight: bold\">0.3993723392486572</span>\n",
       "</pre>\n"
      ],
      "text/plain": [
       "StratifiedTransformerWrapper forward time:  \u001b[1;36m0.3993723392486572\u001b[0m\n"
      ]
     },
     "metadata": {},
     "output_type": "display_data"
    },
    {
     "data": {
      "text/html": [
       "<pre style=\"white-space:pre;overflow-x:auto;line-height:normal;font-family:Menlo,'DejaVu Sans Mono',consolas,'Courier New',monospace\">StratifiedTransformerWrapper forward time:  <span style=\"color: #008080; text-decoration-color: #008080; font-weight: bold\">0.3594224452972412</span>\n",
       "</pre>\n"
      ],
      "text/plain": [
       "StratifiedTransformerWrapper forward time:  \u001b[1;36m0.3594224452972412\u001b[0m\n"
      ]
     },
     "metadata": {},
     "output_type": "display_data"
    },
    {
     "data": {
      "text/html": [
       "<pre style=\"white-space:pre;overflow-x:auto;line-height:normal;font-family:Menlo,'DejaVu Sans Mono',consolas,'Courier New',monospace\">StratifiedTransformerWrapper forward time:  <span style=\"color: #008080; text-decoration-color: #008080; font-weight: bold\">0.3305337429046631</span>\n",
       "</pre>\n"
      ],
      "text/plain": [
       "StratifiedTransformerWrapper forward time:  \u001b[1;36m0.3305337429046631\u001b[0m\n"
      ]
     },
     "metadata": {},
     "output_type": "display_data"
    },
    {
     "data": {
      "text/html": [
       "<pre style=\"white-space:pre;overflow-x:auto;line-height:normal;font-family:Menlo,'DejaVu Sans Mono',consolas,'Courier New',monospace\">StratifiedTransformerWrapper forward time:  <span style=\"color: #008080; text-decoration-color: #008080; font-weight: bold\">0.482318639755249</span>\n",
       "</pre>\n"
      ],
      "text/plain": [
       "StratifiedTransformerWrapper forward time:  \u001b[1;36m0.482318639755249\u001b[0m\n"
      ]
     },
     "metadata": {},
     "output_type": "display_data"
    },
    {
     "data": {
      "text/html": [
       "<pre style=\"white-space:pre;overflow-x:auto;line-height:normal;font-family:Menlo,'DejaVu Sans Mono',consolas,'Courier New',monospace\">StratifiedTransformerWrapper forward time:  <span style=\"color: #008080; text-decoration-color: #008080; font-weight: bold\">0.321502685546875</span>\n",
       "</pre>\n"
      ],
      "text/plain": [
       "StratifiedTransformerWrapper forward time:  \u001b[1;36m0.321502685546875\u001b[0m\n"
      ]
     },
     "metadata": {},
     "output_type": "display_data"
    },
    {
     "name": "stdout",
     "output_type": "stream",
     "text": [
      "Current memory usage: 61.95 MB\n",
      "Max memory usage: 229.40 MB\n"
     ]
    },
    {
     "data": {
      "text/html": [
       "<pre style=\"white-space:pre;overflow-x:auto;line-height:normal;font-family:Menlo,'DejaVu Sans Mono',consolas,'Courier New',monospace\">StratifiedTransformerWrapper forward time:  <span style=\"color: #008080; text-decoration-color: #008080; font-weight: bold\">0.3587830066680908</span>\n",
       "</pre>\n"
      ],
      "text/plain": [
       "StratifiedTransformerWrapper forward time:  \u001b[1;36m0.3587830066680908\u001b[0m\n"
      ]
     },
     "metadata": {},
     "output_type": "display_data"
    },
    {
     "data": {
      "text/html": [
       "<pre style=\"white-space:pre;overflow-x:auto;line-height:normal;font-family:Menlo,'DejaVu Sans Mono',consolas,'Courier New',monospace\">StratifiedTransformerWrapper forward time:  <span style=\"color: #008080; text-decoration-color: #008080; font-weight: bold\">0.4535503387451172</span>\n",
       "</pre>\n"
      ],
      "text/plain": [
       "StratifiedTransformerWrapper forward time:  \u001b[1;36m0.4535503387451172\u001b[0m\n"
      ]
     },
     "metadata": {},
     "output_type": "display_data"
    },
    {
     "data": {
      "text/html": [
       "<pre style=\"white-space:pre;overflow-x:auto;line-height:normal;font-family:Menlo,'DejaVu Sans Mono',consolas,'Courier New',monospace\">StratifiedTransformerWrapper forward time:  <span style=\"color: #008080; text-decoration-color: #008080; font-weight: bold\">0.3151557445526123</span>\n",
       "</pre>\n"
      ],
      "text/plain": [
       "StratifiedTransformerWrapper forward time:  \u001b[1;36m0.3151557445526123\u001b[0m\n"
      ]
     },
     "metadata": {},
     "output_type": "display_data"
    },
    {
     "data": {
      "text/html": [
       "<pre style=\"white-space:pre;overflow-x:auto;line-height:normal;font-family:Menlo,'DejaVu Sans Mono',consolas,'Courier New',monospace\">StratifiedTransformerWrapper forward time:  <span style=\"color: #008080; text-decoration-color: #008080; font-weight: bold\">0.39609503746032715</span>\n",
       "</pre>\n"
      ],
      "text/plain": [
       "StratifiedTransformerWrapper forward time:  \u001b[1;36m0.39609503746032715\u001b[0m\n"
      ]
     },
     "metadata": {},
     "output_type": "display_data"
    },
    {
     "data": {
      "text/html": [
       "<pre style=\"white-space:pre;overflow-x:auto;line-height:normal;font-family:Menlo,'DejaVu Sans Mono',consolas,'Courier New',monospace\">StratifiedTransformerWrapper forward time:  <span style=\"color: #008080; text-decoration-color: #008080; font-weight: bold\">0.38425612449645996</span>\n",
       "</pre>\n"
      ],
      "text/plain": [
       "StratifiedTransformerWrapper forward time:  \u001b[1;36m0.38425612449645996\u001b[0m\n"
      ]
     },
     "metadata": {},
     "output_type": "display_data"
    },
    {
     "name": "stdout",
     "output_type": "stream",
     "text": [
      "Current memory usage: 62.12 MB\n",
      "Max memory usage: 72.87 MB\n"
     ]
    },
    {
     "data": {
      "text/html": [
       "<pre style=\"white-space:pre;overflow-x:auto;line-height:normal;font-family:Menlo,'DejaVu Sans Mono',consolas,'Courier New',monospace\">StratifiedTransformerWrapper forward time:  <span style=\"color: #008080; text-decoration-color: #008080; font-weight: bold\">0.39000988006591797</span>\n",
       "</pre>\n"
      ],
      "text/plain": [
       "StratifiedTransformerWrapper forward time:  \u001b[1;36m0.39000988006591797\u001b[0m\n"
      ]
     },
     "metadata": {},
     "output_type": "display_data"
    },
    {
     "data": {
      "text/html": [
       "<pre style=\"white-space:pre;overflow-x:auto;line-height:normal;font-family:Menlo,'DejaVu Sans Mono',consolas,'Courier New',monospace\">StratifiedTransformerWrapper forward time:  <span style=\"color: #008080; text-decoration-color: #008080; font-weight: bold\">0.39855480194091797</span>\n",
       "</pre>\n"
      ],
      "text/plain": [
       "StratifiedTransformerWrapper forward time:  \u001b[1;36m0.39855480194091797\u001b[0m\n"
      ]
     },
     "metadata": {},
     "output_type": "display_data"
    },
    {
     "data": {
      "text/html": [
       "<pre style=\"white-space:pre;overflow-x:auto;line-height:normal;font-family:Menlo,'DejaVu Sans Mono',consolas,'Courier New',monospace\">StratifiedTransformerWrapper forward time:  <span style=\"color: #008080; text-decoration-color: #008080; font-weight: bold\">0.3925809860229492</span>\n",
       "</pre>\n"
      ],
      "text/plain": [
       "StratifiedTransformerWrapper forward time:  \u001b[1;36m0.3925809860229492\u001b[0m\n"
      ]
     },
     "metadata": {},
     "output_type": "display_data"
    },
    {
     "data": {
      "text/html": [
       "<pre style=\"white-space:pre;overflow-x:auto;line-height:normal;font-family:Menlo,'DejaVu Sans Mono',consolas,'Courier New',monospace\">StratifiedTransformerWrapper forward time:  <span style=\"color: #008080; text-decoration-color: #008080; font-weight: bold\">0.4179544448852539</span>\n",
       "</pre>\n"
      ],
      "text/plain": [
       "StratifiedTransformerWrapper forward time:  \u001b[1;36m0.4179544448852539\u001b[0m\n"
      ]
     },
     "metadata": {},
     "output_type": "display_data"
    },
    {
     "data": {
      "text/html": [
       "<pre style=\"white-space:pre;overflow-x:auto;line-height:normal;font-family:Menlo,'DejaVu Sans Mono',consolas,'Courier New',monospace\">StratifiedTransformerWrapper forward time:  <span style=\"color: #008080; text-decoration-color: #008080; font-weight: bold\">0.30950498580932617</span>\n",
       "</pre>\n"
      ],
      "text/plain": [
       "StratifiedTransformerWrapper forward time:  \u001b[1;36m0.30950498580932617\u001b[0m\n"
      ]
     },
     "metadata": {},
     "output_type": "display_data"
    },
    {
     "name": "stdout",
     "output_type": "stream",
     "text": [
      "Current memory usage: 62.46 MB\n",
      "Max memory usage: 81.80 MB\n"
     ]
    },
    {
     "data": {
      "text/html": [
       "<pre style=\"white-space:pre;overflow-x:auto;line-height:normal;font-family:Menlo,'DejaVu Sans Mono',consolas,'Courier New',monospace\">StratifiedTransformerWrapper forward time:  <span style=\"color: #008080; text-decoration-color: #008080; font-weight: bold\">0.4850142002105713</span>\n",
       "</pre>\n"
      ],
      "text/plain": [
       "StratifiedTransformerWrapper forward time:  \u001b[1;36m0.4850142002105713\u001b[0m\n"
      ]
     },
     "metadata": {},
     "output_type": "display_data"
    },
    {
     "data": {
      "text/html": [
       "<pre style=\"white-space:pre;overflow-x:auto;line-height:normal;font-family:Menlo,'DejaVu Sans Mono',consolas,'Courier New',monospace\">StratifiedTransformerWrapper forward time:  <span style=\"color: #008080; text-decoration-color: #008080; font-weight: bold\">0.34949803352355957</span>\n",
       "</pre>\n"
      ],
      "text/plain": [
       "StratifiedTransformerWrapper forward time:  \u001b[1;36m0.34949803352355957\u001b[0m\n"
      ]
     },
     "metadata": {},
     "output_type": "display_data"
    },
    {
     "data": {
      "text/html": [
       "<pre style=\"white-space:pre;overflow-x:auto;line-height:normal;font-family:Menlo,'DejaVu Sans Mono',consolas,'Courier New',monospace\">StratifiedTransformerWrapper forward time:  <span style=\"color: #008080; text-decoration-color: #008080; font-weight: bold\">0.394578218460083</span>\n",
       "</pre>\n"
      ],
      "text/plain": [
       "StratifiedTransformerWrapper forward time:  \u001b[1;36m0.394578218460083\u001b[0m\n"
      ]
     },
     "metadata": {},
     "output_type": "display_data"
    },
    {
     "data": {
      "text/html": [
       "<pre style=\"white-space:pre;overflow-x:auto;line-height:normal;font-family:Menlo,'DejaVu Sans Mono',consolas,'Courier New',monospace\">StratifiedTransformerWrapper forward time:  <span style=\"color: #008080; text-decoration-color: #008080; font-weight: bold\">0.4269425868988037</span>\n",
       "</pre>\n"
      ],
      "text/plain": [
       "StratifiedTransformerWrapper forward time:  \u001b[1;36m0.4269425868988037\u001b[0m\n"
      ]
     },
     "metadata": {},
     "output_type": "display_data"
    },
    {
     "data": {
      "text/html": [
       "<pre style=\"white-space:pre;overflow-x:auto;line-height:normal;font-family:Menlo,'DejaVu Sans Mono',consolas,'Courier New',monospace\">StratifiedTransformerWrapper forward time:  <span style=\"color: #008080; text-decoration-color: #008080; font-weight: bold\">0.3994874954223633</span>\n",
       "</pre>\n"
      ],
      "text/plain": [
       "StratifiedTransformerWrapper forward time:  \u001b[1;36m0.3994874954223633\u001b[0m\n"
      ]
     },
     "metadata": {},
     "output_type": "display_data"
    },
    {
     "name": "stdout",
     "output_type": "stream",
     "text": [
      "Current memory usage: 63.15 MB\n",
      "Max memory usage: 97.57 MB\n"
     ]
    },
    {
     "data": {
      "text/html": [
       "<pre style=\"white-space:pre;overflow-x:auto;line-height:normal;font-family:Menlo,'DejaVu Sans Mono',consolas,'Courier New',monospace\">StratifiedTransformerWrapper forward time:  <span style=\"color: #008080; text-decoration-color: #008080; font-weight: bold\">0.43028903007507324</span>\n",
       "</pre>\n"
      ],
      "text/plain": [
       "StratifiedTransformerWrapper forward time:  \u001b[1;36m0.43028903007507324\u001b[0m\n"
      ]
     },
     "metadata": {},
     "output_type": "display_data"
    },
    {
     "data": {
      "text/html": [
       "<pre style=\"white-space:pre;overflow-x:auto;line-height:normal;font-family:Menlo,'DejaVu Sans Mono',consolas,'Courier New',monospace\">StratifiedTransformerWrapper forward time:  <span style=\"color: #008080; text-decoration-color: #008080; font-weight: bold\">0.32970714569091797</span>\n",
       "</pre>\n"
      ],
      "text/plain": [
       "StratifiedTransformerWrapper forward time:  \u001b[1;36m0.32970714569091797\u001b[0m\n"
      ]
     },
     "metadata": {},
     "output_type": "display_data"
    },
    {
     "data": {
      "text/html": [
       "<pre style=\"white-space:pre;overflow-x:auto;line-height:normal;font-family:Menlo,'DejaVu Sans Mono',consolas,'Courier New',monospace\">StratifiedTransformerWrapper forward time:  <span style=\"color: #008080; text-decoration-color: #008080; font-weight: bold\">0.6622068881988525</span>\n",
       "</pre>\n"
      ],
      "text/plain": [
       "StratifiedTransformerWrapper forward time:  \u001b[1;36m0.6622068881988525\u001b[0m\n"
      ]
     },
     "metadata": {},
     "output_type": "display_data"
    },
    {
     "data": {
      "text/html": [
       "<pre style=\"white-space:pre;overflow-x:auto;line-height:normal;font-family:Menlo,'DejaVu Sans Mono',consolas,'Courier New',monospace\">StratifiedTransformerWrapper forward time:  <span style=\"color: #008080; text-decoration-color: #008080; font-weight: bold\">0.3495488166809082</span>\n",
       "</pre>\n"
      ],
      "text/plain": [
       "StratifiedTransformerWrapper forward time:  \u001b[1;36m0.3495488166809082\u001b[0m\n"
      ]
     },
     "metadata": {},
     "output_type": "display_data"
    },
    {
     "data": {
      "text/html": [
       "<pre style=\"white-space:pre;overflow-x:auto;line-height:normal;font-family:Menlo,'DejaVu Sans Mono',consolas,'Courier New',monospace\">StratifiedTransformerWrapper forward time:  <span style=\"color: #008080; text-decoration-color: #008080; font-weight: bold\">0.3393857479095459</span>\n",
       "</pre>\n"
      ],
      "text/plain": [
       "StratifiedTransformerWrapper forward time:  \u001b[1;36m0.3393857479095459\u001b[0m\n"
      ]
     },
     "metadata": {},
     "output_type": "display_data"
    },
    {
     "name": "stdout",
     "output_type": "stream",
     "text": [
      "Current memory usage: 64.53 MB\n",
      "Max memory usage: 133.77 MB\n"
     ]
    },
    {
     "data": {
      "text/html": [
       "<pre style=\"white-space:pre;overflow-x:auto;line-height:normal;font-family:Menlo,'DejaVu Sans Mono',consolas,'Courier New',monospace\">StratifiedTransformerWrapper forward time:  <span style=\"color: #008080; text-decoration-color: #008080; font-weight: bold\">0.3780546188354492</span>\n",
       "</pre>\n"
      ],
      "text/plain": [
       "StratifiedTransformerWrapper forward time:  \u001b[1;36m0.3780546188354492\u001b[0m\n"
      ]
     },
     "metadata": {},
     "output_type": "display_data"
    },
    {
     "data": {
      "text/html": [
       "<pre style=\"white-space:pre;overflow-x:auto;line-height:normal;font-family:Menlo,'DejaVu Sans Mono',consolas,'Courier New',monospace\">StratifiedTransformerWrapper forward time:  <span style=\"color: #008080; text-decoration-color: #008080; font-weight: bold\">0.38126587867736816</span>\n",
       "</pre>\n"
      ],
      "text/plain": [
       "StratifiedTransformerWrapper forward time:  \u001b[1;36m0.38126587867736816\u001b[0m\n"
      ]
     },
     "metadata": {},
     "output_type": "display_data"
    },
    {
     "data": {
      "text/html": [
       "<pre style=\"white-space:pre;overflow-x:auto;line-height:normal;font-family:Menlo,'DejaVu Sans Mono',consolas,'Courier New',monospace\">StratifiedTransformerWrapper forward time:  <span style=\"color: #008080; text-decoration-color: #008080; font-weight: bold\">0.5051140785217285</span>\n",
       "</pre>\n"
      ],
      "text/plain": [
       "StratifiedTransformerWrapper forward time:  \u001b[1;36m0.5051140785217285\u001b[0m\n"
      ]
     },
     "metadata": {},
     "output_type": "display_data"
    },
    {
     "data": {
      "text/html": [
       "<pre style=\"white-space:pre;overflow-x:auto;line-height:normal;font-family:Menlo,'DejaVu Sans Mono',consolas,'Courier New',monospace\">StratifiedTransformerWrapper forward time:  <span style=\"color: #008080; text-decoration-color: #008080; font-weight: bold\">0.30080199241638184</span>\n",
       "</pre>\n"
      ],
      "text/plain": [
       "StratifiedTransformerWrapper forward time:  \u001b[1;36m0.30080199241638184\u001b[0m\n"
      ]
     },
     "metadata": {},
     "output_type": "display_data"
    },
    {
     "data": {
      "text/html": [
       "<pre style=\"white-space:pre;overflow-x:auto;line-height:normal;font-family:Menlo,'DejaVu Sans Mono',consolas,'Courier New',monospace\">StratifiedTransformerWrapper forward time:  <span style=\"color: #008080; text-decoration-color: #008080; font-weight: bold\">0.3607463836669922</span>\n",
       "</pre>\n"
      ],
      "text/plain": [
       "StratifiedTransformerWrapper forward time:  \u001b[1;36m0.3607463836669922\u001b[0m\n"
      ]
     },
     "metadata": {},
     "output_type": "display_data"
    },
    {
     "name": "stdout",
     "output_type": "stream",
     "text": [
      "Current memory usage: 67.29 MB\n",
      "Max memory usage: 204.42 MB\n"
     ]
    },
    {
     "data": {
      "text/html": [
       "<pre style=\"white-space:pre;overflow-x:auto;line-height:normal;font-family:Menlo,'DejaVu Sans Mono',consolas,'Courier New',monospace\">StratifiedTransformerWrapper forward time:  <span style=\"color: #008080; text-decoration-color: #008080; font-weight: bold\">0.4180600643157959</span>\n",
       "</pre>\n"
      ],
      "text/plain": [
       "StratifiedTransformerWrapper forward time:  \u001b[1;36m0.4180600643157959\u001b[0m\n"
      ]
     },
     "metadata": {},
     "output_type": "display_data"
    },
    {
     "data": {
      "text/html": [
       "<pre style=\"white-space:pre;overflow-x:auto;line-height:normal;font-family:Menlo,'DejaVu Sans Mono',consolas,'Courier New',monospace\">StratifiedTransformerWrapper forward time:  <span style=\"color: #008080; text-decoration-color: #008080; font-weight: bold\">0.5621168613433838</span>\n",
       "</pre>\n"
      ],
      "text/plain": [
       "StratifiedTransformerWrapper forward time:  \u001b[1;36m0.5621168613433838\u001b[0m\n"
      ]
     },
     "metadata": {},
     "output_type": "display_data"
    },
    {
     "data": {
      "text/html": [
       "<pre style=\"white-space:pre;overflow-x:auto;line-height:normal;font-family:Menlo,'DejaVu Sans Mono',consolas,'Courier New',monospace\">StratifiedTransformerWrapper forward time:  <span style=\"color: #008080; text-decoration-color: #008080; font-weight: bold\">0.3732872009277344</span>\n",
       "</pre>\n"
      ],
      "text/plain": [
       "StratifiedTransformerWrapper forward time:  \u001b[1;36m0.3732872009277344\u001b[0m\n"
      ]
     },
     "metadata": {},
     "output_type": "display_data"
    },
    {
     "data": {
      "text/html": [
       "<pre style=\"white-space:pre;overflow-x:auto;line-height:normal;font-family:Menlo,'DejaVu Sans Mono',consolas,'Courier New',monospace\">StratifiedTransformerWrapper forward time:  <span style=\"color: #008080; text-decoration-color: #008080; font-weight: bold\">0.36989736557006836</span>\n",
       "</pre>\n"
      ],
      "text/plain": [
       "StratifiedTransformerWrapper forward time:  \u001b[1;36m0.36989736557006836\u001b[0m\n"
      ]
     },
     "metadata": {},
     "output_type": "display_data"
    },
    {
     "data": {
      "text/html": [
       "<pre style=\"white-space:pre;overflow-x:auto;line-height:normal;font-family:Menlo,'DejaVu Sans Mono',consolas,'Courier New',monospace\">StratifiedTransformerWrapper forward time:  <span style=\"color: #008080; text-decoration-color: #008080; font-weight: bold\">0.3526296615600586</span>\n",
       "</pre>\n"
      ],
      "text/plain": [
       "StratifiedTransformerWrapper forward time:  \u001b[1;36m0.3526296615600586\u001b[0m\n"
      ]
     },
     "metadata": {},
     "output_type": "display_data"
    },
    {
     "name": "stdout",
     "output_type": "stream",
     "text": [
      "Current memory usage: 73.80 MB\n",
      "Max memory usage: 348.99 MB\n"
     ]
    },
    {
     "data": {
      "text/html": [
       "<pre style=\"white-space:pre;overflow-x:auto;line-height:normal;font-family:Menlo,'DejaVu Sans Mono',consolas,'Courier New',monospace\">StratifiedTransformerWrapper forward time:  <span style=\"color: #008080; text-decoration-color: #008080; font-weight: bold\">0.8835210800170898</span>\n",
       "</pre>\n"
      ],
      "text/plain": [
       "StratifiedTransformerWrapper forward time:  \u001b[1;36m0.8835210800170898\u001b[0m\n"
      ]
     },
     "metadata": {},
     "output_type": "display_data"
    },
    {
     "data": {
      "text/html": [
       "<pre style=\"white-space:pre;overflow-x:auto;line-height:normal;font-family:Menlo,'DejaVu Sans Mono',consolas,'Courier New',monospace\">StratifiedTransformerWrapper forward time:  <span style=\"color: #008080; text-decoration-color: #008080; font-weight: bold\">0.4397616386413574</span>\n",
       "</pre>\n"
      ],
      "text/plain": [
       "StratifiedTransformerWrapper forward time:  \u001b[1;36m0.4397616386413574\u001b[0m\n"
      ]
     },
     "metadata": {},
     "output_type": "display_data"
    },
    {
     "data": {
      "text/html": [
       "<pre style=\"white-space:pre;overflow-x:auto;line-height:normal;font-family:Menlo,'DejaVu Sans Mono',consolas,'Courier New',monospace\">StratifiedTransformerWrapper forward time:  <span style=\"color: #008080; text-decoration-color: #008080; font-weight: bold\">0.4289538860321045</span>\n",
       "</pre>\n"
      ],
      "text/plain": [
       "StratifiedTransformerWrapper forward time:  \u001b[1;36m0.4289538860321045\u001b[0m\n"
      ]
     },
     "metadata": {},
     "output_type": "display_data"
    },
    {
     "data": {
      "text/html": [
       "<pre style=\"white-space:pre;overflow-x:auto;line-height:normal;font-family:Menlo,'DejaVu Sans Mono',consolas,'Courier New',monospace\">StratifiedTransformerWrapper forward time:  <span style=\"color: #008080; text-decoration-color: #008080; font-weight: bold\">0.5958101749420166</span>\n",
       "</pre>\n"
      ],
      "text/plain": [
       "StratifiedTransformerWrapper forward time:  \u001b[1;36m0.5958101749420166\u001b[0m\n"
      ]
     },
     "metadata": {},
     "output_type": "display_data"
    },
    {
     "data": {
      "text/html": [
       "<pre style=\"white-space:pre;overflow-x:auto;line-height:normal;font-family:Menlo,'DejaVu Sans Mono',consolas,'Courier New',monospace\">StratifiedTransformerWrapper forward time:  <span style=\"color: #008080; text-decoration-color: #008080; font-weight: bold\">0.49665164947509766</span>\n",
       "</pre>\n"
      ],
      "text/plain": [
       "StratifiedTransformerWrapper forward time:  \u001b[1;36m0.49665164947509766\u001b[0m\n"
      ]
     },
     "metadata": {},
     "output_type": "display_data"
    },
    {
     "name": "stdout",
     "output_type": "stream",
     "text": [
      "Current memory usage: 83.84 MB\n",
      "Max memory usage: 632.09 MB\n"
     ]
    },
    {
     "data": {
      "text/html": [
       "<pre style=\"white-space:pre;overflow-x:auto;line-height:normal;font-family:Menlo,'DejaVu Sans Mono',consolas,'Courier New',monospace\">StratifiedTransformerWrapper forward time:  <span style=\"color: #008080; text-decoration-color: #008080; font-weight: bold\">0.7235066890716553</span>\n",
       "</pre>\n"
      ],
      "text/plain": [
       "StratifiedTransformerWrapper forward time:  \u001b[1;36m0.7235066890716553\u001b[0m\n"
      ]
     },
     "metadata": {},
     "output_type": "display_data"
    },
    {
     "data": {
      "text/html": [
       "<pre style=\"white-space:pre;overflow-x:auto;line-height:normal;font-family:Menlo,'DejaVu Sans Mono',consolas,'Courier New',monospace\">StratifiedTransformerWrapper forward time:  <span style=\"color: #008080; text-decoration-color: #008080; font-weight: bold\">0.9367644786834717</span>\n",
       "</pre>\n"
      ],
      "text/plain": [
       "StratifiedTransformerWrapper forward time:  \u001b[1;36m0.9367644786834717\u001b[0m\n"
      ]
     },
     "metadata": {},
     "output_type": "display_data"
    },
    {
     "data": {
      "text/html": [
       "<pre style=\"white-space:pre;overflow-x:auto;line-height:normal;font-family:Menlo,'DejaVu Sans Mono',consolas,'Courier New',monospace\">StratifiedTransformerWrapper forward time:  <span style=\"color: #008080; text-decoration-color: #008080; font-weight: bold\">0.6797940731048584</span>\n",
       "</pre>\n"
      ],
      "text/plain": [
       "StratifiedTransformerWrapper forward time:  \u001b[1;36m0.6797940731048584\u001b[0m\n"
      ]
     },
     "metadata": {},
     "output_type": "display_data"
    },
    {
     "data": {
      "text/html": [
       "<pre style=\"white-space:pre;overflow-x:auto;line-height:normal;font-family:Menlo,'DejaVu Sans Mono',consolas,'Courier New',monospace\">StratifiedTransformerWrapper forward time:  <span style=\"color: #008080; text-decoration-color: #008080; font-weight: bold\">0.8819441795349121</span>\n",
       "</pre>\n"
      ],
      "text/plain": [
       "StratifiedTransformerWrapper forward time:  \u001b[1;36m0.8819441795349121\u001b[0m\n"
      ]
     },
     "metadata": {},
     "output_type": "display_data"
    },
    {
     "data": {
      "text/html": [
       "<pre style=\"white-space:pre;overflow-x:auto;line-height:normal;font-family:Menlo,'DejaVu Sans Mono',consolas,'Courier New',monospace\">StratifiedTransformerWrapper forward time:  <span style=\"color: #008080; text-decoration-color: #008080; font-weight: bold\">0.7622120380401611</span>\n",
       "</pre>\n"
      ],
      "text/plain": [
       "StratifiedTransformerWrapper forward time:  \u001b[1;36m0.7622120380401611\u001b[0m\n"
      ]
     },
     "metadata": {},
     "output_type": "display_data"
    },
    {
     "name": "stdout",
     "output_type": "stream",
     "text": [
      "Current memory usage: 106.84 MB\n",
      "Max memory usage: 1201.96 MB\n"
     ]
    },
    {
     "data": {
      "text/html": [
       "<pre style=\"white-space:pre;overflow-x:auto;line-height:normal;font-family:Menlo,'DejaVu Sans Mono',consolas,'Courier New',monospace\">StratifiedTransformerWrapper forward time:  <span style=\"color: #008080; text-decoration-color: #008080; font-weight: bold\">2.0666534900665283</span>\n",
       "</pre>\n"
      ],
      "text/plain": [
       "StratifiedTransformerWrapper forward time:  \u001b[1;36m2.0666534900665283\u001b[0m\n"
      ]
     },
     "metadata": {},
     "output_type": "display_data"
    },
    {
     "data": {
      "text/html": [
       "<pre style=\"white-space:pre;overflow-x:auto;line-height:normal;font-family:Menlo,'DejaVu Sans Mono',consolas,'Courier New',monospace\">StratifiedTransformerWrapper forward time:  <span style=\"color: #008080; text-decoration-color: #008080; font-weight: bold\">1.7351932525634766</span>\n",
       "</pre>\n"
      ],
      "text/plain": [
       "StratifiedTransformerWrapper forward time:  \u001b[1;36m1.7351932525634766\u001b[0m\n"
      ]
     },
     "metadata": {},
     "output_type": "display_data"
    },
    {
     "data": {
      "text/html": [
       "<pre style=\"white-space:pre;overflow-x:auto;line-height:normal;font-family:Menlo,'DejaVu Sans Mono',consolas,'Courier New',monospace\">StratifiedTransformerWrapper forward time:  <span style=\"color: #008080; text-decoration-color: #008080; font-weight: bold\">1.703500509262085</span>\n",
       "</pre>\n"
      ],
      "text/plain": [
       "StratifiedTransformerWrapper forward time:  \u001b[1;36m1.703500509262085\u001b[0m\n"
      ]
     },
     "metadata": {},
     "output_type": "display_data"
    },
    {
     "data": {
      "text/html": [
       "<pre style=\"white-space:pre;overflow-x:auto;line-height:normal;font-family:Menlo,'DejaVu Sans Mono',consolas,'Courier New',monospace\">StratifiedTransformerWrapper forward time:  <span style=\"color: #008080; text-decoration-color: #008080; font-weight: bold\">1.7420198917388916</span>\n",
       "</pre>\n"
      ],
      "text/plain": [
       "StratifiedTransformerWrapper forward time:  \u001b[1;36m1.7420198917388916\u001b[0m\n"
      ]
     },
     "metadata": {},
     "output_type": "display_data"
    },
    {
     "data": {
      "text/html": [
       "<pre style=\"white-space:pre;overflow-x:auto;line-height:normal;font-family:Menlo,'DejaVu Sans Mono',consolas,'Courier New',monospace\">StratifiedTransformerWrapper forward time:  <span style=\"color: #008080; text-decoration-color: #008080; font-weight: bold\">1.8956401348114014</span>\n",
       "</pre>\n"
      ],
      "text/plain": [
       "StratifiedTransformerWrapper forward time:  \u001b[1;36m1.8956401348114014\u001b[0m\n"
      ]
     },
     "metadata": {},
     "output_type": "display_data"
    },
    {
     "name": "stdout",
     "output_type": "stream",
     "text": [
      "Current memory usage: 150.02 MB\n",
      "Max memory usage: 2338.01 MB\n"
     ]
    },
    {
     "data": {
      "text/html": [
       "<pre style=\"white-space:pre;overflow-x:auto;line-height:normal;font-family:Menlo,'DejaVu Sans Mono',consolas,'Courier New',monospace\">StratifiedTransformerWrapper forward time:  <span style=\"color: #008080; text-decoration-color: #008080; font-weight: bold\">5.455312490463257</span>\n",
       "</pre>\n"
      ],
      "text/plain": [
       "StratifiedTransformerWrapper forward time:  \u001b[1;36m5.455312490463257\u001b[0m\n"
      ]
     },
     "metadata": {},
     "output_type": "display_data"
    },
    {
     "data": {
      "text/html": [
       "<pre style=\"white-space:pre;overflow-x:auto;line-height:normal;font-family:Menlo,'DejaVu Sans Mono',consolas,'Courier New',monospace\">StratifiedTransformerWrapper forward time:  <span style=\"color: #008080; text-decoration-color: #008080; font-weight: bold\">5.440865516662598</span>\n",
       "</pre>\n"
      ],
      "text/plain": [
       "StratifiedTransformerWrapper forward time:  \u001b[1;36m5.440865516662598\u001b[0m\n"
      ]
     },
     "metadata": {},
     "output_type": "display_data"
    },
    {
     "data": {
      "text/html": [
       "<pre style=\"white-space:pre;overflow-x:auto;line-height:normal;font-family:Menlo,'DejaVu Sans Mono',consolas,'Courier New',monospace\">StratifiedTransformerWrapper forward time:  <span style=\"color: #008080; text-decoration-color: #008080; font-weight: bold\">5.4075026512146</span>\n",
       "</pre>\n"
      ],
      "text/plain": [
       "StratifiedTransformerWrapper forward time:  \u001b[1;36m5.4075026512146\u001b[0m\n"
      ]
     },
     "metadata": {},
     "output_type": "display_data"
    },
    {
     "data": {
      "text/html": [
       "<pre style=\"white-space:pre;overflow-x:auto;line-height:normal;font-family:Menlo,'DejaVu Sans Mono',consolas,'Courier New',monospace\">StratifiedTransformerWrapper forward time:  <span style=\"color: #008080; text-decoration-color: #008080; font-weight: bold\">5.461700677871704</span>\n",
       "</pre>\n"
      ],
      "text/plain": [
       "StratifiedTransformerWrapper forward time:  \u001b[1;36m5.461700677871704\u001b[0m\n"
      ]
     },
     "metadata": {},
     "output_type": "display_data"
    },
    {
     "data": {
      "text/html": [
       "<pre style=\"white-space:pre;overflow-x:auto;line-height:normal;font-family:Menlo,'DejaVu Sans Mono',consolas,'Courier New',monospace\">StratifiedTransformerWrapper forward time:  <span style=\"color: #008080; text-decoration-color: #008080; font-weight: bold\">5.496267795562744</span>\n",
       "</pre>\n"
      ],
      "text/plain": [
       "StratifiedTransformerWrapper forward time:  \u001b[1;36m5.496267795562744\u001b[0m\n"
      ]
     },
     "metadata": {},
     "output_type": "display_data"
    },
    {
     "name": "stdout",
     "output_type": "stream",
     "text": [
      "Current memory usage: 239.27 MB\n",
      "Max memory usage: 4614.78 MB\n",
      "[128, 256, 512, 1024, 2048, 4096, 8192, 16384, 32768, 65535, 131072]\n",
      "[229.40185546875, 72.8740234375, 81.80126953125, 97.57373046875, 133.76806640625, 204.41650390625, 348.9931640625, 632.0888671875, 1201.96337890625, 2338.0078125, 4614.77587890625]\n",
      "Input memory usage: 51.5 MB\n",
      "Out memory usage: 24.0 MB\n",
      "Loss memory usage: 3.814697265625e-06 MB\n"
     ]
    },
    {
     "data": {
      "image/png": "[encoded data removed]",
      "text/plain": [
       "<Figure size 640x480 with 1 Axes>"
      ]
     },
     "metadata": {},
     "output_type": "display_data"
    }
   ],
   "source": [
    "input_data = torch.randn(1, 128, 103, device=\"cuda:0\", requires_grad=True)\n",
    "points_xyz = torch.randn(1, 128, 3, device=\"cuda:0\", requires_grad=False)\n",
    "output_data = torch.randn(1, 128, 128, device=\"cuda:0\")\n",
    "out = model(input_data, batch={\"points_xyz\": points_xyz})\n",
    "torch.cuda.reset_peak_memory_stats()\n",
    "B = 1\n",
    "S = 128\n",
    "\n",
    "BS = [128, 256, 512, 1024, 2048, 4096, 8192, 16384, 32768, 65535, 131072]\n",
    "mems = []\n",
    "for S in  BS:\n",
    "    for i in range(5):\n",
    "        input_data = torch.randn(B, S, 103, device=\"cuda:0\", requires_grad=True)\n",
    "        points_xyz = torch.rand(B, S, 3, device=\"cuda:0\", requires_grad=False)\n",
    "        output_data = torch.randn(B, S, 48, device=\"cuda:0\")\n",
    "        out = model(input_data, batch={\"points_xyz\": points_xyz})\n",
    "        loss = torch.nn.functional.mse_loss(output_data, out)\n",
    "        loss.backward()\n",
    "        optimizer.step()\n",
    "\n",
    "    print(f\"Current memory usage: {torch.cuda.memory_allocated() / 1024**2:.2f} MB\")\n",
    "    print(f\"Max memory usage: {torch.cuda.max_memory_allocated() / 1024**2:.2f} MB\")\n",
    "    \n",
    "    mems.append(torch.cuda.max_memory_allocated() / 1024**2)\n",
    "    torch.cuda.empty_cache()\n",
    "    torch.cuda.reset_peak_memory_stats()\n",
    "    \n",
    "    \n",
    "print(BS)\n",
    "print(mems)\n",
    "\n",
    "# plot BS agains mems\n",
    "import matplotlib.pyplot as plt\n",
    "fig = plt.plot(BS, mems)\n",
    "\n",
    "# memory usage of out loss and input_data\n",
    "print(\"Input memory usage:\", input_data.element_size() * input_data.nelement() / 1024**2, \"MB\")\n",
    "print(\"Out memory usage:\", out.element_size() * out.nelement() / 1024**2, \"MB\")\n",
    "print(\"Loss memory usage:\", loss.element_size() * loss.nelement() / 1024**2, \"MB\")"
   ]
  },
  {
   "cell_type": "code",
   "execution_count": 3,
   "metadata": {},
   "outputs": [
    {
     "ename": "NameError",
     "evalue": "name 'torch' is not defined",
     "output_type": "error",
     "traceback": [
      "\u001b[0;31m---------------------------------------------------------------------------\u001b[0m",
      "\u001b[0;31mNameError\u001b[0m                                 Traceback (most recent call last)",
      "Cell \u001b[0;32mIn[3], line 1\u001b[0m\n\u001b[0;32m----> 1\u001b[0m input_data \u001b[39m=\u001b[39m torch\u001b[39m.\u001b[39mrandn(\u001b[39m1\u001b[39m, \u001b[39m128\u001b[39m, \u001b[39m103\u001b[39m, device\u001b[39m=\u001b[39m\u001b[39m\"\u001b[39m\u001b[39mcuda:0\u001b[39m\u001b[39m\"\u001b[39m, requires_grad\u001b[39m=\u001b[39m\u001b[39mTrue\u001b[39;00m)\n\u001b[1;32m      2\u001b[0m output_data \u001b[39m=\u001b[39m torch\u001b[39m.\u001b[39mrandn(\u001b[39m1\u001b[39m, \u001b[39m128\u001b[39m, \u001b[39m128\u001b[39m, device\u001b[39m=\u001b[39m\u001b[39m\"\u001b[39m\u001b[39mcuda:0\u001b[39m\u001b[39m\"\u001b[39m)\n\u001b[1;32m      3\u001b[0m out \u001b[39m=\u001b[39m model(input_data, batch\u001b[39m=\u001b[39m{})\n",
      "\u001b[0;31mNameError\u001b[0m: name 'torch' is not defined"
     ]
    }
   ],
   "source": [
    "input_data = torch.randn(1, 128, 103, device=\"cuda:0\", requires_grad=True)\n",
    "output_data = torch.randn(1, 128, 128, device=\"cuda:0\")\n",
    "out = model(input_data, batch={})\n",
    "torch.cuda.reset_peak_memory_stats()\n",
    "B = 2\n",
    "S = 128\n",
    "\n",
    "BS = [1,2,3,4,6, 8, 10]\n",
    "mems = []\n",
    "for B in  BS:\n",
    "    with profile(activities=[ProfilerActivity.CPU, ProfilerActivity.CUDA],\n",
    "            profile_memory=True, record_shapes=True, with_stack=False) as prof:\n",
    "        for i in range(5):\n",
    "            input_data = torch.randn(B, S, 103, device=\"cuda:0\", requires_grad=True)\n",
    "            output_data = torch.randn(B, S, 128, device=\"cuda:0\")\n",
    "            out = model(input_data, batch={})\n",
    "            loss = torch.nn.functional.mse_loss(output_data, out)\n",
    "            loss.backward()\n",
    "            optimizer.step()\n",
    "\n",
    "    print(f\"Current memory usage: {torch.cuda.memory_allocated() / 1024**2:.2f} MB\")\n",
    "    print(f\"Max memory usage: {torch.cuda.max_memory_allocated() / 1024**2:.2f} MB\")\n",
    "    \n",
    "    mems.append(torch.cuda.max_memory_allocated() / 1024**2)\n",
    "    torch.cuda.empty_cache()\n",
    "    torch.cuda.reset_peak_memory_stats()\n",
    "    \n",
    "    \n",
    "print(BS)\n",
    "print(mems)\n",
    "\n",
    "# plot BS agains mems\n",
    "import matplotlib.pyplot as plt\n",
    "fig = plt.plot(BS, mems)\n",
    "\n",
    "# memory usage of out loss and input_data\n",
    "print(\"Input memory usage:\", input_data.element_size() * input_data.nelement() / 1024**2, \"MB\")\n",
    "print(\"Out memory usage:\", out.element_size() * out.nelement() / 1024**2, \"MB\")\n",
    "print(\"Loss memory usage:\", loss.element_size() * loss.nelement() / 1024**2, \"MB\")"
   ]
  },
  {
   "attachments": {},
   "cell_type": "markdown",
   "metadata": {},
   "source": [
    "## B = 1, S = 2048\n",
    "Max memory usage: 2618.83 MB\n",
    "\n",
    "## B = 1, S = 2048\n"
   ]
  },
  {
   "cell_type": "code",
   "execution_count": 11,
   "metadata": {},
   "outputs": [],
   "source": [
    "del optimizer"
   ]
  },
  {
   "cell_type": "code",
   "execution_count": 28,
   "metadata": {},
   "outputs": [],
   "source": [
    "torch.cuda.empty_cache()"
   ]
  },
  {
   "cell_type": "code",
   "execution_count": 5,
   "metadata": {},
   "outputs": [
    {
     "name": "stdout",
     "output_type": "stream",
     "text": [
      "torch.Size([1, 128, 128])\n",
      "-------------------------------------------------------  ------------  ------------  ------------  ------------  ------------  ------------  ------------  ------------  ------------  ------------  ------------  ------------  ------------  ------------  \n",
      "                                                   Name    Self CPU %      Self CPU   CPU total %     CPU total  CPU time avg     Self CUDA   Self CUDA %    CUDA total  CUDA time avg       CPU Mem  Self CPU Mem      CUDA Mem  Self CUDA Mem    # of Calls  \n",
      "-------------------------------------------------------  ------------  ------------  ------------  ------------  ------------  ------------  ------------  ------------  ------------  ------------  ------------  ------------  ------------  ------------  \n",
      "                                            aten::empty         0.84%      17.213ms         0.91%      18.798ms       8.743us       0.000us         0.00%       7.000us       0.003us       2.62 Kb       2.62 Kb     437.69 Mb     437.69 Mb          2150  \n",
      "                                               [memory]         0.00%       0.000us         0.00%       0.000us       0.000us       0.000us         0.00%       0.000us       0.000us         640 b         640 b    -107.85 Mb    -107.85 Mb          1029  \n",
      "                                            aten::randn         0.01%     235.000us         0.13%       2.676ms     133.800us       0.000us         0.00%      73.000us       3.650us           0 b           0 b       1.13 Mb           0 b            20  \n",
      "                                          aten::normal_         0.02%     416.000us         0.04%     732.000us      36.600us      60.000us         0.10%      73.000us       3.650us           0 b           0 b           0 b           0 b            20  \n",
      "                                  cudaStreamIsCapturing         0.03%     612.000us         0.03%     612.000us       1.764us     134.000us         0.22%     134.000us       0.386us           0 b           0 b           0 b           0 b           347  \n",
      "                                       cudaLaunchKernel         7.35%     151.039ms         7.35%     151.039ms       9.351us       4.610ms         7.69%       4.610ms       0.285us           0 b           0 b           0 b           0 b         16152  \n",
      "void at::native::(anonymous namespace)::distribution...         0.00%       0.000us         0.00%       0.000us       0.000us      60.000us         0.10%      60.000us       3.000us           0 b           0 b           0 b           0 b            20  \n",
      "                                           aten::linear         0.20%       4.168ms        21.97%     451.660ms       1.369ms       0.000us         0.00%       2.666ms       8.079us           0 b           0 b      30.62 Mb           0 b           330  \n",
      "                                                aten::t         5.57%     114.433ms         5.97%     122.682ms      74.353us       0.000us         0.00%       0.000us       0.000us           0 b           0 b           0 b           0 b          1650  \n",
      "                                        aten::transpose         9.72%     199.731ms         9.92%     203.945ms      66.002us       0.000us         0.00%       0.000us       0.000us           0 b           0 b           0 b           0 b          3090  \n",
      "-------------------------------------------------------  ------------  ------------  ------------  ------------  ------------  ------------  ------------  ------------  ------------  ------------  ------------  ------------  ------------  ------------  \n",
      "Self CPU time total: 2.056s\n",
      "Self CUDA time total: 59.918ms\n",
      "\n"
     ]
    }
   ],
   "source": [
    "print(out.shape)\n",
    "print(prof.key_averages().table(sort_by=\"self_cpu_memory_usage\", row_limit=10))"
   ]
  },
  {
   "cell_type": "code",
   "execution_count": 12,
   "metadata": {},
   "outputs": [
    {
     "name": "stdout",
     "output_type": "stream",
     "text": [
      "-------------------------------------------------------  ------------  ------------  ------------  ------------  ------------  ------------  ------------  ------------  ------------  ------------  ------------  ------------  ------------  ------------  \n",
      "                                                   Name    Self CPU %      Self CPU   CPU total %     CPU total  CPU time avg     Self CUDA   Self CUDA %    CUDA total  CUDA time avg       CPU Mem  Self CPU Mem      CUDA Mem  Self CUDA Mem    # of Calls  \n",
      "-------------------------------------------------------  ------------  ------------  ------------  ------------  ------------  ------------  ------------  ------------  ------------  ------------  ------------  ------------  ------------  ------------  \n",
      "                                             aten::view        16.85%     346.283ms        16.85%     346.283ms     223.408us       0.000us         0.00%       0.000us       0.000us           0 b           0 b           0 b           0 b          1550  \n",
      "                                        aten::transpose        10.48%     215.488ms        10.71%     220.029ms      71.207us       0.000us         0.00%       0.000us       0.000us           0 b           0 b           0 b           0 b          3090  \n",
      "                                       cudaLaunchKernel         7.18%     147.602ms         7.18%     147.602ms       9.083us       0.000us         0.00%       0.000us       0.000us           0 b           0 b           0 b           0 b         16250  \n",
      "                                            aten::addmm         6.87%     141.099ms         7.59%     155.956ms     472.594us       2.405ms         4.00%       2.405ms       7.288us           0 b           0 b      30.62 Mb    -299.38 Mb           330  \n",
      "                                                aten::t         5.62%     115.538ms         6.02%     123.753ms      75.002us       0.000us         0.00%       0.000us       0.000us           0 b           0 b           0 b           0 b          1650  \n",
      "-------------------------------------------------------  ------------  ------------  ------------  ------------  ------------  ------------  ------------  ------------  ------------  ------------  ------------  ------------  ------------  ------------  \n",
      "Self CPU time total: 2.055s\n",
      "Self CUDA time total: 60.190ms\n",
      "\n"
     ]
    }
   ],
   "source": [
    "print(prof.key_averages(group_by_stack_n=5).table(sort_by='self_cpu_time_total', row_limit=5))"
   ]
  },
  {
   "cell_type": "code",
   "execution_count": 11,
   "metadata": {},
   "outputs": [
    {
     "ename": "NameError",
     "evalue": "name 'summary' is not defined",
     "output_type": "error",
     "traceback": [
      "\u001b[0;31m---------------------------------------------------------------------------\u001b[0m",
      "\u001b[0;31mNameError\u001b[0m                                 Traceback (most recent call last)",
      "Cell \u001b[0;32mIn[11], line 1\u001b[0m\n\u001b[0;32m----> 1\u001b[0m summary(transformer, input_size\u001b[39m=\u001b[39m(\u001b[39m1\u001b[39m, \u001b[39m3000\u001b[39m, \u001b[39m48\u001b[39m))\n",
      "\u001b[0;31mNameError\u001b[0m: name 'summary' is not defined"
     ]
    }
   ],
   "source": [
    "\n",
    "\n",
    "summary(transformer, input_size=(1, 3000, 48))\n"
   ]
  },
  {
   "cell_type": "code",
   "execution_count": 13,
   "metadata": {},
   "outputs": [
    {
     "data": {
      "text/plain": [
       "(13698990080, 16900292608)"
      ]
     },
     "execution_count": 13,
     "metadata": {},
     "output_type": "execute_result"
    }
   ],
   "source": [
    "torch.cuda.mem_get_info()\n"
   ]
  },
  {
   "cell_type": "code",
   "execution_count": 21,
   "metadata": {},
   "outputs": [],
   "source": [
    "memory_stats = torch.cuda.memory_stats()"
   ]
  },
  {
   "cell_type": "code",
   "execution_count": 24,
   "metadata": {},
   "outputs": [
    {
     "name": "stdout",
     "output_type": "stream",
     "text": [
      "|===========================================================================|\n",
      "|                  PyTorch CUDA memory summary, device ID 0                 |\n",
      "|---------------------------------------------------------------------------|\n",
      "|            CUDA OOMs: 1            |        cudaMalloc retries: 1         |\n",
      "|===========================================================================|\n",
      "|        Metric         | Cur Usage  | Peak Usage | Tot Alloc  | Tot Freed  |\n",
      "|---------------------------------------------------------------------------|\n",
      "| Allocated memory      |    4117 MB |   10117 MB |  149032 MB |  144914 MB |\n",
      "|       from large pool |    4043 MB |   10043 MB |  144985 MB |  140942 MB |\n",
      "|       from small pool |      73 MB |     130 MB |    4046 MB |    3972 MB |\n",
      "|---------------------------------------------------------------------------|\n",
      "| Active memory         |    4117 MB |   10117 MB |  149032 MB |  144914 MB |\n",
      "|       from large pool |    4043 MB |   10043 MB |  144985 MB |  140942 MB |\n",
      "|       from small pool |      73 MB |     130 MB |    4046 MB |    3972 MB |\n",
      "|---------------------------------------------------------------------------|\n",
      "| GPU reserved memory   |    8144 MB |   14144 MB |   58818 MB |   50674 MB |\n",
      "|       from large pool |    8012 MB |   14012 MB |   58482 MB |   50470 MB |\n",
      "|       from small pool |     132 MB |     138 MB |     336 MB |     204 MB |\n",
      "|---------------------------------------------------------------------------|\n",
      "| Non-releasable memory |    4026 MB |    4031 MB |   99018 MB |   94991 MB |\n",
      "|       from large pool |    3968 MB |    3972 MB |   94824 MB |   90855 MB |\n",
      "|       from small pool |      58 MB |      60 MB |    4194 MB |    4135 MB |\n",
      "|---------------------------------------------------------------------------|\n",
      "| Allocations           |     659    |    1108    |   39221    |   38562    |\n",
      "|       from large pool |     170    |     339    |    5165    |    4995    |\n",
      "|       from small pool |     489    |    1090    |   34056    |   33567    |\n",
      "|---------------------------------------------------------------------------|\n",
      "| Active allocs         |     659    |    1108    |   39221    |   38562    |\n",
      "|       from large pool |     170    |     339    |    5165    |    4995    |\n",
      "|       from small pool |     489    |    1090    |   34056    |   33567    |\n",
      "|---------------------------------------------------------------------------|\n",
      "| GPU reserved segments |      77    |      85    |     236    |     159    |\n",
      "|       from large pool |      11    |      18    |      68    |      57    |\n",
      "|       from small pool |      66    |      69    |     168    |     102    |\n",
      "|---------------------------------------------------------------------------|\n",
      "| Non-releasable allocs |     230    |     233    |   18334    |   18104    |\n",
      "|       from large pool |      67    |      69    |    2344    |    2277    |\n",
      "|       from small pool |     163    |     172    |   15990    |   15827    |\n",
      "|---------------------------------------------------------------------------|\n",
      "| Oversize allocations  |       0    |       0    |       0    |       0    |\n",
      "|---------------------------------------------------------------------------|\n",
      "| Oversize GPU segments |       0    |       0    |       0    |       0    |\n",
      "|===========================================================================|\n",
      "\n"
     ]
    }
   ],
   "source": [
    "print(torch.cuda.memory_summary())"
   ]
  },
  {
   "cell_type": "code",
   "execution_count": 27,
   "metadata": {},
   "outputs": [
    {
     "name": "stdout",
     "output_type": "stream",
     "text": [
      "Tensor of shape torch.Size([15, 3]) - 0.00 MB\n",
      "Tensor of shape torch.Size([15, 103, 48]) - 0.28 MB\n",
      "Tensor of shape torch.Size([48]) - 0.00 MB\n",
      "Tensor of shape torch.Size([48]) - 0.00 MB\n",
      "Tensor of shape torch.Size([384]) - 0.00 MB\n",
      "Tensor of shape torch.Size([384]) - 0.00 MB\n",
      "Tensor of shape torch.Size([64, 24, 16, 3]) - 0.28 MB\n",
      "Tensor of shape torch.Size([64, 24, 16, 3]) - 0.28 MB\n",
      "Tensor of shape torch.Size([64, 24, 16, 3]) - 0.28 MB\n",
      "Tensor of shape torch.Size([384]) - 0.00 MB\n",
      "Tensor of shape torch.Size([384]) - 0.00 MB\n",
      "Tensor of shape torch.Size([384]) - 0.00 MB\n",
      "Tensor of shape torch.Size([384]) - 0.00 MB\n",
      "Tensor of shape torch.Size([64, 24, 16, 3]) - 0.28 MB\n",
      "Tensor of shape torch.Size([64, 24, 16, 3]) - 0.28 MB\n",
      "Tensor of shape torch.Size([64, 24, 16, 3]) - 0.28 MB\n",
      "Tensor of shape torch.Size([384]) - 0.00 MB\n",
      "Tensor of shape torch.Size([384]) - 0.00 MB\n",
      "Tensor of shape torch.Size([1152, 384]) - 1.69 MB\n",
      "Tensor of shape torch.Size([1152]) - 0.00 MB\n",
      "Tensor of shape torch.Size([384, 384]) - 0.56 MB\n",
      "Tensor of shape torch.Size([384]) - 0.00 MB\n",
      "Tensor of shape torch.Size([1536, 384]) - 2.25 MB\n",
      "Tensor of shape torch.Size([1536]) - 0.01 MB\n",
      "Tensor of shape torch.Size([384, 1536]) - 2.25 MB\n",
      "Tensor of shape torch.Size([384]) - 0.00 MB\n",
      "Tensor of shape torch.Size([1152, 384]) - 1.69 MB\n",
      "Tensor of shape torch.Size([1152]) - 0.00 MB\n",
      "Tensor of shape torch.Size([384, 384]) - 0.56 MB\n",
      "Tensor of shape torch.Size([384]) - 0.00 MB\n",
      "Tensor of shape torch.Size([1536, 384]) - 2.25 MB\n",
      "Tensor of shape torch.Size([1536]) - 0.01 MB\n",
      "Tensor of shape torch.Size([384, 1536]) - 2.25 MB\n",
      "Tensor of shape torch.Size([384]) - 0.00 MB\n",
      "Tensor of shape torch.Size([96]) - 0.00 MB\n",
      "Tensor of shape torch.Size([96]) - 0.00 MB\n",
      "Tensor of shape torch.Size([96, 96]) - 0.04 MB\n",
      "Tensor of shape torch.Size([96]) - 0.00 MB\n",
      "Tensor of shape torch.Size([192]) - 0.00 MB\n",
      "Tensor of shape torch.Size([192]) - 0.00 MB\n",
      "Tensor of shape torch.Size([96, 192]) - 0.07 MB\n",
      "Tensor of shape torch.Size([96]) - 0.00 MB\n",
      "Tensor of shape torch.Size([48]) - 0.00 MB\n",
      "Tensor of shape torch.Size([48]) - 0.00 MB\n",
      "Tensor of shape torch.Size([48, 48]) - 0.01 MB\n",
      "Tensor of shape torch.Size([48]) - 0.00 MB\n",
      "Tensor of shape torch.Size([96]) - 0.00 MB\n",
      "Tensor of shape torch.Size([96]) - 0.00 MB\n",
      "Tensor of shape torch.Size([48, 96]) - 0.02 MB\n",
      "Tensor of shape torch.Size([48]) - 0.00 MB\n",
      "Tensor of shape torch.Size([48]) - 0.00 MB\n",
      "Tensor of shape torch.Size([48]) - 0.00 MB\n",
      "Tensor of shape torch.Size([]) - 0.00 MB\n",
      "Tensor of shape torch.Size([192]) - 0.00 MB\n",
      "Tensor of shape torch.Size([192, 384]) - 0.28 MB\n",
      "Tensor of shape torch.Size([384]) - 0.00 MB\n",
      "Tensor of shape torch.Size([384]) - 0.00 MB\n",
      "Tensor of shape torch.Size([192]) - 0.00 MB\n",
      "Tensor of shape torch.Size([192, 192]) - 0.14 MB\n",
      "Tensor of shape torch.Size([192]) - 0.00 MB\n",
      "Tensor of shape torch.Size([192]) - 0.00 MB\n",
      "Tensor of shape torch.Size([192]) - 0.00 MB\n",
      "Tensor of shape torch.Size([192, 768]) - 0.56 MB\n",
      "Tensor of shape torch.Size([768]) - 0.00 MB\n",
      "Tensor of shape torch.Size([768, 192]) - 0.56 MB\n",
      "Tensor of shape torch.Size([192]) - 0.00 MB\n",
      "Tensor of shape torch.Size([192]) - 0.00 MB\n",
      "Tensor of shape torch.Size([192]) - 0.00 MB\n",
      "Tensor of shape torch.Size([192, 192]) - 0.14 MB\n",
      "Tensor of shape torch.Size([576]) - 0.00 MB\n",
      "Tensor of shape torch.Size([576, 192]) - 0.42 MB\n",
      "Tensor of shape torch.Size([64, 12, 16, 3]) - 0.14 MB\n",
      "Tensor of shape torch.Size([64, 12, 16, 3]) - 0.14 MB\n",
      "Tensor of shape torch.Size([64, 12, 16, 3]) - 0.14 MB\n",
      "Tensor of shape torch.Size([192]) - 0.00 MB\n",
      "Tensor of shape torch.Size([192]) - 0.00 MB\n",
      "Tensor of shape torch.Size([192]) - 0.00 MB\n",
      "Tensor of shape torch.Size([192, 768]) - 0.56 MB\n",
      "Tensor of shape torch.Size([768]) - 0.00 MB\n",
      "Tensor of shape torch.Size([768, 192]) - 0.56 MB\n",
      "Tensor of shape torch.Size([192]) - 0.00 MB\n",
      "Tensor of shape torch.Size([192]) - 0.00 MB\n",
      "Tensor of shape torch.Size([192]) - 0.00 MB\n",
      "Tensor of shape torch.Size([192, 192]) - 0.14 MB\n",
      "Tensor of shape torch.Size([576]) - 0.00 MB\n",
      "Tensor of shape torch.Size([576, 192]) - 0.42 MB\n",
      "Tensor of shape torch.Size([64, 12, 16, 3]) - 0.14 MB\n",
      "Tensor of shape torch.Size([64, 12, 16, 3]) - 0.14 MB\n",
      "Tensor of shape torch.Size([64, 12, 16, 3]) - 0.14 MB\n",
      "Tensor of shape torch.Size([192]) - 0.00 MB\n",
      "Tensor of shape torch.Size([192]) - 0.00 MB\n",
      "Tensor of shape torch.Size([192]) - 0.00 MB\n",
      "Tensor of shape torch.Size([192, 768]) - 0.56 MB\n",
      "Tensor of shape torch.Size([768]) - 0.00 MB\n",
      "Tensor of shape torch.Size([768, 192]) - 0.56 MB\n",
      "Tensor of shape torch.Size([192]) - 0.00 MB\n",
      "Tensor of shape torch.Size([192]) - 0.00 MB\n",
      "Tensor of shape torch.Size([192]) - 0.00 MB\n",
      "Tensor of shape torch.Size([192, 192]) - 0.14 MB\n",
      "Tensor of shape torch.Size([576]) - 0.00 MB\n",
      "Tensor of shape torch.Size([576, 192]) - 0.42 MB\n",
      "Tensor of shape torch.Size([64, 12, 16, 3]) - 0.14 MB\n",
      "Tensor of shape torch.Size([64, 12, 16, 3]) - 0.14 MB\n",
      "Tensor of shape torch.Size([64, 12, 16, 3]) - 0.14 MB\n",
      "Tensor of shape torch.Size([192]) - 0.00 MB\n",
      "Tensor of shape torch.Size([192]) - 0.00 MB\n",
      "Tensor of shape torch.Size([192]) - 0.00 MB\n",
      "Tensor of shape torch.Size([192, 768]) - 0.56 MB\n",
      "Tensor of shape torch.Size([768]) - 0.00 MB\n",
      "Tensor of shape torch.Size([768, 192]) - 0.56 MB\n",
      "Tensor of shape torch.Size([192]) - 0.00 MB\n",
      "Tensor of shape torch.Size([192]) - 0.00 MB\n",
      "Tensor of shape torch.Size([192]) - 0.00 MB\n",
      "Tensor of shape torch.Size([192, 192]) - 0.14 MB\n",
      "Tensor of shape torch.Size([576]) - 0.00 MB\n",
      "Tensor of shape torch.Size([576, 192]) - 0.42 MB\n",
      "Tensor of shape torch.Size([64, 12, 16, 3]) - 0.14 MB\n",
      "Tensor of shape torch.Size([64, 12, 16, 3]) - 0.14 MB\n",
      "Tensor of shape torch.Size([64, 12, 16, 3]) - 0.14 MB\n",
      "Tensor of shape torch.Size([192]) - 0.00 MB\n",
      "Tensor of shape torch.Size([192]) - 0.00 MB\n",
      "Tensor of shape torch.Size([15, 103, 48]) - 0.28 MB\n",
      "Tensor of shape torch.Size([48]) - 0.00 MB\n",
      "Tensor of shape torch.Size([48]) - 0.00 MB\n",
      "Tensor of shape torch.Size([48]) - 0.00 MB\n",
      "Tensor of shape torch.Size([48]) - 0.00 MB\n",
      "Tensor of shape torch.Size([64, 3, 16, 3]) - 0.04 MB\n",
      "Tensor of shape torch.Size([64, 3, 16, 3]) - 0.04 MB\n",
      "Tensor of shape torch.Size([64, 3, 16, 3]) - 0.04 MB\n",
      "Tensor of shape torch.Size([144, 48]) - 0.03 MB\n",
      "Tensor of shape torch.Size([144]) - 0.00 MB\n",
      "Tensor of shape torch.Size([48, 48]) - 0.01 MB\n",
      "Tensor of shape torch.Size([48]) - 0.00 MB\n",
      "Tensor of shape torch.Size([48]) - 0.00 MB\n",
      "Tensor of shape torch.Size([48]) - 0.00 MB\n",
      "Tensor of shape torch.Size([192, 48]) - 0.04 MB\n",
      "Tensor of shape torch.Size([192]) - 0.00 MB\n",
      "Tensor of shape torch.Size([48, 192]) - 0.04 MB\n",
      "Tensor of shape torch.Size([48]) - 0.00 MB\n",
      "Tensor of shape torch.Size([48]) - 0.00 MB\n",
      "Tensor of shape torch.Size([48]) - 0.00 MB\n",
      "Tensor of shape torch.Size([64, 3, 16, 3]) - 0.04 MB\n",
      "Tensor of shape torch.Size([64, 3, 16, 3]) - 0.04 MB\n",
      "Tensor of shape torch.Size([64, 3, 16, 3]) - 0.04 MB\n",
      "Tensor of shape torch.Size([144, 48]) - 0.03 MB\n",
      "Tensor of shape torch.Size([144]) - 0.00 MB\n",
      "Tensor of shape torch.Size([48, 48]) - 0.01 MB\n",
      "Tensor of shape torch.Size([48]) - 0.00 MB\n",
      "Tensor of shape torch.Size([48]) - 0.00 MB\n",
      "Tensor of shape torch.Size([48]) - 0.00 MB\n",
      "Tensor of shape torch.Size([192, 48]) - 0.04 MB\n",
      "Tensor of shape torch.Size([192]) - 0.00 MB\n",
      "Tensor of shape torch.Size([48, 192]) - 0.04 MB\n",
      "Tensor of shape torch.Size([48]) - 0.00 MB\n",
      "Tensor of shape torch.Size([48]) - 0.00 MB\n",
      "Tensor of shape torch.Size([48]) - 0.00 MB\n",
      "Tensor of shape torch.Size([96, 48]) - 0.02 MB\n",
      "Tensor of shape torch.Size([96]) - 0.00 MB\n",
      "Tensor of shape torch.Size([96]) - 0.00 MB\n",
      "Tensor of shape torch.Size([64, 6, 16, 3]) - 0.07 MB\n",
      "Tensor of shape torch.Size([64, 6, 16, 3]) - 0.07 MB\n",
      "Tensor of shape torch.Size([64, 6, 16, 3]) - 0.07 MB\n",
      "Tensor of shape torch.Size([288, 96]) - 0.11 MB\n",
      "Tensor of shape torch.Size([288]) - 0.00 MB\n",
      "Tensor of shape torch.Size([96, 96]) - 0.04 MB\n",
      "Tensor of shape torch.Size([96]) - 0.00 MB\n",
      "Tensor of shape torch.Size([96]) - 0.00 MB\n",
      "Tensor of shape torch.Size([96]) - 0.00 MB\n",
      "Tensor of shape torch.Size([384, 96]) - 0.14 MB\n",
      "Tensor of shape torch.Size([384]) - 0.00 MB\n",
      "Tensor of shape torch.Size([96, 384]) - 0.14 MB\n",
      "Tensor of shape torch.Size([96]) - 0.00 MB\n",
      "Tensor of shape torch.Size([96]) - 0.00 MB\n",
      "Tensor of shape torch.Size([96]) - 0.00 MB\n",
      "Tensor of shape torch.Size([64, 6, 16, 3]) - 0.07 MB\n",
      "Tensor of shape torch.Size([64, 6, 16, 3]) - 0.07 MB\n",
      "Tensor of shape torch.Size([64, 6, 16, 3]) - 0.07 MB\n",
      "Tensor of shape torch.Size([288, 96]) - 0.11 MB\n",
      "Tensor of shape torch.Size([288]) - 0.00 MB\n",
      "Tensor of shape torch.Size([96, 96]) - 0.04 MB\n",
      "Tensor of shape torch.Size([96]) - 0.00 MB\n",
      "Tensor of shape torch.Size([96]) - 0.00 MB\n",
      "Tensor of shape torch.Size([96]) - 0.00 MB\n",
      "Tensor of shape torch.Size([384, 96]) - 0.14 MB\n",
      "Tensor of shape torch.Size([384]) - 0.00 MB\n",
      "Tensor of shape torch.Size([96, 384]) - 0.14 MB\n",
      "Tensor of shape torch.Size([96]) - 0.00 MB\n",
      "Tensor of shape torch.Size([96]) - 0.00 MB\n",
      "Tensor of shape torch.Size([96]) - 0.00 MB\n",
      "Tensor of shape torch.Size([192, 96]) - 0.07 MB\n",
      "Tensor of shape torch.Size([192]) - 0.00 MB\n",
      "Tensor of shape torch.Size([192]) - 0.00 MB\n",
      "Tensor of shape torch.Size([64, 12, 16, 3]) - 0.14 MB\n",
      "Tensor of shape torch.Size([64, 12, 16, 3]) - 0.14 MB\n",
      "Tensor of shape torch.Size([64, 12, 16, 3]) - 0.14 MB\n",
      "Tensor of shape torch.Size([576, 192]) - 0.42 MB\n",
      "Tensor of shape torch.Size([576]) - 0.00 MB\n",
      "Tensor of shape torch.Size([192, 192]) - 0.14 MB\n",
      "Tensor of shape torch.Size([192]) - 0.00 MB\n",
      "Tensor of shape torch.Size([192]) - 0.00 MB\n",
      "Tensor of shape torch.Size([192]) - 0.00 MB\n",
      "Tensor of shape torch.Size([768, 192]) - 0.56 MB\n",
      "Tensor of shape torch.Size([768]) - 0.00 MB\n",
      "Tensor of shape torch.Size([192, 768]) - 0.56 MB\n",
      "Tensor of shape torch.Size([192]) - 0.00 MB\n",
      "Tensor of shape torch.Size([192]) - 0.00 MB\n",
      "Tensor of shape torch.Size([192]) - 0.00 MB\n",
      "Tensor of shape torch.Size([64, 12, 16, 3]) - 0.14 MB\n",
      "Tensor of shape torch.Size([64, 12, 16, 3]) - 0.14 MB\n",
      "Tensor of shape torch.Size([64, 12, 16, 3]) - 0.14 MB\n",
      "Tensor of shape torch.Size([576, 192]) - 0.42 MB\n",
      "Tensor of shape torch.Size([576]) - 0.00 MB\n",
      "Tensor of shape torch.Size([192, 192]) - 0.14 MB\n",
      "Tensor of shape torch.Size([192]) - 0.00 MB\n",
      "Tensor of shape torch.Size([192]) - 0.00 MB\n",
      "Tensor of shape torch.Size([192]) - 0.00 MB\n",
      "Tensor of shape torch.Size([768, 192]) - 0.56 MB\n",
      "Tensor of shape torch.Size([768]) - 0.00 MB\n",
      "Tensor of shape torch.Size([192, 768]) - 0.56 MB\n",
      "Tensor of shape torch.Size([192]) - 0.00 MB\n",
      "Tensor of shape torch.Size([192]) - 0.00 MB\n",
      "Tensor of shape torch.Size([192]) - 0.00 MB\n",
      "Tensor of shape torch.Size([64, 12, 16, 3]) - 0.14 MB\n",
      "Tensor of shape torch.Size([64, 12, 16, 3]) - 0.14 MB\n",
      "Tensor of shape torch.Size([64, 12, 16, 3]) - 0.14 MB\n",
      "Tensor of shape torch.Size([576, 192]) - 0.42 MB\n",
      "Tensor of shape torch.Size([576]) - 0.00 MB\n",
      "Tensor of shape torch.Size([192, 192]) - 0.14 MB\n",
      "Tensor of shape torch.Size([192]) - 0.00 MB\n",
      "Tensor of shape torch.Size([192]) - 0.00 MB\n",
      "Tensor of shape torch.Size([192]) - 0.00 MB\n",
      "Tensor of shape torch.Size([768, 192]) - 0.56 MB\n",
      "Tensor of shape torch.Size([768]) - 0.00 MB\n",
      "Tensor of shape torch.Size([192, 768]) - 0.56 MB\n",
      "Tensor of shape torch.Size([192]) - 0.00 MB\n",
      "Tensor of shape torch.Size([192]) - 0.00 MB\n",
      "Tensor of shape torch.Size([192]) - 0.00 MB\n",
      "Tensor of shape torch.Size([64, 12, 16, 3]) - 0.14 MB\n",
      "Tensor of shape torch.Size([64, 12, 16, 3]) - 0.14 MB\n",
      "Tensor of shape torch.Size([64, 12, 16, 3]) - 0.14 MB\n",
      "Tensor of shape torch.Size([576, 192]) - 0.42 MB\n",
      "Tensor of shape torch.Size([576]) - 0.00 MB\n",
      "Tensor of shape torch.Size([192, 192]) - 0.14 MB\n",
      "Tensor of shape torch.Size([192]) - 0.00 MB\n",
      "Tensor of shape torch.Size([192]) - 0.00 MB\n",
      "Tensor of shape torch.Size([192]) - 0.00 MB\n",
      "Tensor of shape torch.Size([768, 192]) - 0.56 MB\n",
      "Tensor of shape torch.Size([768]) - 0.00 MB\n",
      "Tensor of shape torch.Size([192, 768]) - 0.56 MB\n",
      "Tensor of shape torch.Size([192]) - 0.00 MB\n",
      "Tensor of shape torch.Size([192]) - 0.00 MB\n",
      "Tensor of shape torch.Size([192]) - 0.00 MB\n",
      "Tensor of shape torch.Size([64, 12, 16, 3]) - 0.14 MB\n",
      "Tensor of shape torch.Size([64, 12, 16, 3]) - 0.14 MB\n",
      "Tensor of shape torch.Size([64, 12, 16, 3]) - 0.14 MB\n",
      "Tensor of shape torch.Size([576, 192]) - 0.42 MB\n",
      "Tensor of shape torch.Size([576]) - 0.00 MB\n",
      "Tensor of shape torch.Size([192, 192]) - 0.14 MB\n",
      "Tensor of shape torch.Size([192]) - 0.00 MB\n",
      "Tensor of shape torch.Size([192]) - 0.00 MB\n",
      "Tensor of shape torch.Size([192]) - 0.00 MB\n",
      "Tensor of shape torch.Size([768, 192]) - 0.56 MB\n",
      "Tensor of shape torch.Size([768]) - 0.00 MB\n",
      "Tensor of shape torch.Size([192, 768]) - 0.56 MB\n",
      "Tensor of shape torch.Size([192]) - 0.00 MB\n",
      "Tensor of shape torch.Size([192]) - 0.00 MB\n",
      "Tensor of shape torch.Size([192]) - 0.00 MB\n",
      "Tensor of shape torch.Size([64, 12, 16, 3]) - 0.14 MB\n",
      "Tensor of shape torch.Size([64, 12, 16, 3]) - 0.14 MB\n",
      "Tensor of shape torch.Size([64, 12, 16, 3]) - 0.14 MB\n",
      "Tensor of shape torch.Size([576, 192]) - 0.42 MB\n",
      "Tensor of shape torch.Size([576]) - 0.00 MB\n",
      "Tensor of shape torch.Size([192, 192]) - 0.14 MB\n",
      "Tensor of shape torch.Size([192]) - 0.00 MB\n",
      "Tensor of shape torch.Size([192]) - 0.00 MB\n",
      "Tensor of shape torch.Size([192]) - 0.00 MB\n",
      "Tensor of shape torch.Size([768, 192]) - 0.56 MB\n",
      "Tensor of shape torch.Size([768]) - 0.00 MB\n",
      "Tensor of shape torch.Size([192, 768]) - 0.56 MB\n",
      "Tensor of shape torch.Size([192]) - 0.00 MB\n",
      "Tensor of shape torch.Size([192]) - 0.00 MB\n",
      "Tensor of shape torch.Size([192]) - 0.00 MB\n",
      "Tensor of shape torch.Size([384, 192]) - 0.28 MB\n",
      "Tensor of shape torch.Size([384]) - 0.00 MB\n",
      "Tensor of shape torch.Size([384]) - 0.00 MB\n",
      "Tensor of shape torch.Size([64, 24, 16, 3]) - 0.28 MB\n",
      "Tensor of shape torch.Size([64, 24, 16, 3]) - 0.28 MB\n",
      "Tensor of shape torch.Size([64, 24, 16, 3]) - 0.28 MB\n",
      "Tensor of shape torch.Size([1152, 384]) - 1.69 MB\n",
      "Tensor of shape torch.Size([1152]) - 0.00 MB\n",
      "Tensor of shape torch.Size([384, 384]) - 0.56 MB\n",
      "Tensor of shape torch.Size([384]) - 0.00 MB\n",
      "Tensor of shape torch.Size([384]) - 0.00 MB\n",
      "Tensor of shape torch.Size([384]) - 0.00 MB\n",
      "Tensor of shape torch.Size([1536, 384]) - 2.25 MB\n",
      "Tensor of shape torch.Size([1536]) - 0.01 MB\n",
      "Tensor of shape torch.Size([384, 1536]) - 2.25 MB\n",
      "Tensor of shape torch.Size([384]) - 0.00 MB\n",
      "Tensor of shape torch.Size([384]) - 0.00 MB\n",
      "Tensor of shape torch.Size([384]) - 0.00 MB\n",
      "Tensor of shape torch.Size([64, 24, 16, 3]) - 0.28 MB\n",
      "Tensor of shape torch.Size([64, 24, 16, 3]) - 0.28 MB\n",
      "Tensor of shape torch.Size([64, 24, 16, 3]) - 0.28 MB\n",
      "Tensor of shape torch.Size([1152, 384]) - 1.69 MB\n",
      "Tensor of shape torch.Size([1152]) - 0.00 MB\n",
      "Tensor of shape torch.Size([384, 384]) - 0.56 MB\n",
      "Tensor of shape torch.Size([384]) - 0.00 MB\n",
      "Tensor of shape torch.Size([384]) - 0.00 MB\n",
      "Tensor of shape torch.Size([384]) - 0.00 MB\n",
      "Tensor of shape torch.Size([1536, 384]) - 2.25 MB\n",
      "Tensor of shape torch.Size([1536]) - 0.01 MB\n",
      "Tensor of shape torch.Size([384, 1536]) - 2.25 MB\n",
      "Tensor of shape torch.Size([384]) - 0.00 MB\n",
      "Tensor of shape torch.Size([192]) - 0.00 MB\n",
      "Tensor of shape torch.Size([192]) - 0.00 MB\n",
      "Tensor of shape torch.Size([192, 192]) - 0.14 MB\n",
      "Tensor of shape torch.Size([192]) - 0.00 MB\n",
      "Tensor of shape torch.Size([384]) - 0.00 MB\n",
      "Tensor of shape torch.Size([384]) - 0.00 MB\n",
      "Tensor of shape torch.Size([192, 384]) - 0.28 MB\n",
      "Tensor of shape torch.Size([192]) - 0.00 MB\n",
      "Tensor of shape torch.Size([96]) - 0.00 MB\n",
      "Tensor of shape torch.Size([96]) - 0.00 MB\n",
      "Tensor of shape torch.Size([96, 96]) - 0.04 MB\n",
      "Tensor of shape torch.Size([96]) - 0.00 MB\n",
      "Tensor of shape torch.Size([192]) - 0.00 MB\n",
      "Tensor of shape torch.Size([192]) - 0.00 MB\n",
      "Tensor of shape torch.Size([96, 192]) - 0.07 MB\n",
      "Tensor of shape torch.Size([96]) - 0.00 MB\n",
      "Tensor of shape torch.Size([48]) - 0.00 MB\n",
      "Tensor of shape torch.Size([48]) - 0.00 MB\n",
      "Tensor of shape torch.Size([48, 48]) - 0.01 MB\n",
      "Tensor of shape torch.Size([48]) - 0.00 MB\n",
      "Tensor of shape torch.Size([96]) - 0.00 MB\n",
      "Tensor of shape torch.Size([96]) - 0.00 MB\n",
      "Tensor of shape torch.Size([48, 96]) - 0.02 MB\n",
      "Tensor of shape torch.Size([48]) - 0.00 MB\n",
      "Tensor of shape torch.Size([1, 131072, 103]) - 51.50 MB\n",
      "Tensor of shape torch.Size([1, 131072, 3]) - 1.50 MB\n",
      "Tensor of shape torch.Size([1, 131072, 48]) - 24.00 MB\n",
      "Tensor of shape torch.Size([]) - 0.00 MB\n",
      "Tensor of shape torch.Size([]) - 0.00 MB\n",
      "Tensor of shape torch.Size([]) - 0.00 MB\n",
      "Tensor of shape torch.Size([]) - 0.00 MB\n",
      "Tensor of shape torch.Size([]) - 0.00 MB\n",
      "Tensor of shape torch.Size([]) - 0.00 MB\n",
      "Tensor of shape torch.Size([]) - 0.00 MB\n",
      "Tensor of shape torch.Size([]) - 0.00 MB\n",
      "Tensor of shape torch.Size([]) - 0.00 MB\n",
      "Tensor of shape torch.Size([]) - 0.00 MB\n",
      "Tensor of shape torch.Size([131072, 48]) - 24.00 MB\n",
      "Tensor of shape torch.Size([1, 131072, 48]) - 24.00 MB\n",
      "Tensor of shape torch.Size([]) - 0.00 MB\n",
      "Tensor of shape torch.Size([]) - 0.00 MB\n",
      "Tensor of shape torch.Size([]) - 0.00 MB\n",
      "Tensor of shape torch.Size([48]) - 0.00 MB\n",
      "Tensor of shape torch.Size([48]) - 0.00 MB\n",
      "Tensor of shape torch.Size([64, 3, 16, 3]) - 0.04 MB\n",
      "Tensor of shape torch.Size([64, 3, 16, 3]) - 0.04 MB\n",
      "Tensor of shape torch.Size([64, 3, 16, 3]) - 0.04 MB\n",
      "Tensor of shape torch.Size([144, 48]) - 0.03 MB\n",
      "Tensor of shape torch.Size([144]) - 0.00 MB\n",
      "Tensor of shape torch.Size([48, 48]) - 0.01 MB\n",
      "Tensor of shape torch.Size([48]) - 0.00 MB\n",
      "Tensor of shape torch.Size([48]) - 0.00 MB\n",
      "Tensor of shape torch.Size([48]) - 0.00 MB\n",
      "Tensor of shape torch.Size([192, 48]) - 0.04 MB\n",
      "Tensor of shape torch.Size([192]) - 0.00 MB\n",
      "Tensor of shape torch.Size([48, 192]) - 0.04 MB\n",
      "Tensor of shape torch.Size([48]) - 0.00 MB\n",
      "Tensor of shape torch.Size([48]) - 0.00 MB\n",
      "Tensor of shape torch.Size([48]) - 0.00 MB\n",
      "Tensor of shape torch.Size([64, 3, 16, 3]) - 0.04 MB\n",
      "Tensor of shape torch.Size([64, 3, 16, 3]) - 0.04 MB\n",
      "Tensor of shape torch.Size([64, 3, 16, 3]) - 0.04 MB\n",
      "Tensor of shape torch.Size([144, 48]) - 0.03 MB\n",
      "Tensor of shape torch.Size([144]) - 0.00 MB\n",
      "Tensor of shape torch.Size([48, 48]) - 0.01 MB\n",
      "Tensor of shape torch.Size([48]) - 0.00 MB\n",
      "Tensor of shape torch.Size([48]) - 0.00 MB\n",
      "Tensor of shape torch.Size([48]) - 0.00 MB\n",
      "Tensor of shape torch.Size([192, 48]) - 0.04 MB\n",
      "Tensor of shape torch.Size([192]) - 0.00 MB\n",
      "Tensor of shape torch.Size([48, 192]) - 0.04 MB\n",
      "Tensor of shape torch.Size([48]) - 0.00 MB\n",
      "Tensor of shape torch.Size([48]) - 0.00 MB\n",
      "Tensor of shape torch.Size([48]) - 0.00 MB\n",
      "Tensor of shape torch.Size([96, 48]) - 0.02 MB\n",
      "Tensor of shape torch.Size([96]) - 0.00 MB\n",
      "Tensor of shape torch.Size([96]) - 0.00 MB\n",
      "Tensor of shape torch.Size([64, 6, 16, 3]) - 0.07 MB\n",
      "Tensor of shape torch.Size([64, 6, 16, 3]) - 0.07 MB\n",
      "Tensor of shape torch.Size([64, 6, 16, 3]) - 0.07 MB\n",
      "Tensor of shape torch.Size([288, 96]) - 0.11 MB\n",
      "Tensor of shape torch.Size([288]) - 0.00 MB\n",
      "Tensor of shape torch.Size([96, 96]) - 0.04 MB\n",
      "Tensor of shape torch.Size([96]) - 0.00 MB\n",
      "Tensor of shape torch.Size([96]) - 0.00 MB\n",
      "Tensor of shape torch.Size([96]) - 0.00 MB\n",
      "Tensor of shape torch.Size([384, 96]) - 0.14 MB\n",
      "Tensor of shape torch.Size([384]) - 0.00 MB\n",
      "Tensor of shape torch.Size([96, 384]) - 0.14 MB\n",
      "Tensor of shape torch.Size([96]) - 0.00 MB\n",
      "Tensor of shape torch.Size([96]) - 0.00 MB\n",
      "Tensor of shape torch.Size([96]) - 0.00 MB\n",
      "Tensor of shape torch.Size([64, 6, 16, 3]) - 0.07 MB\n",
      "Tensor of shape torch.Size([64, 6, 16, 3]) - 0.07 MB\n",
      "Tensor of shape torch.Size([64, 6, 16, 3]) - 0.07 MB\n",
      "Tensor of shape torch.Size([288, 96]) - 0.11 MB\n",
      "Tensor of shape torch.Size([288]) - 0.00 MB\n",
      "Tensor of shape torch.Size([96, 96]) - 0.04 MB\n",
      "Tensor of shape torch.Size([96]) - 0.00 MB\n",
      "Tensor of shape torch.Size([96]) - 0.00 MB\n",
      "Tensor of shape torch.Size([96]) - 0.00 MB\n",
      "Tensor of shape torch.Size([384, 96]) - 0.14 MB\n",
      "Tensor of shape torch.Size([384]) - 0.00 MB\n",
      "Tensor of shape torch.Size([96, 384]) - 0.14 MB\n",
      "Tensor of shape torch.Size([96]) - 0.00 MB\n",
      "Tensor of shape torch.Size([96]) - 0.00 MB\n",
      "Tensor of shape torch.Size([96]) - 0.00 MB\n",
      "Tensor of shape torch.Size([192, 96]) - 0.07 MB\n",
      "Tensor of shape torch.Size([192]) - 0.00 MB\n",
      "Tensor of shape torch.Size([192]) - 0.00 MB\n",
      "Tensor of shape torch.Size([64, 12, 16, 3]) - 0.14 MB\n",
      "Tensor of shape torch.Size([64, 12, 16, 3]) - 0.14 MB\n",
      "Tensor of shape torch.Size([64, 12, 16, 3]) - 0.14 MB\n",
      "Tensor of shape torch.Size([576, 192]) - 0.42 MB\n",
      "Tensor of shape torch.Size([576]) - 0.00 MB\n",
      "Tensor of shape torch.Size([192, 192]) - 0.14 MB\n",
      "Tensor of shape torch.Size([192]) - 0.00 MB\n",
      "Tensor of shape torch.Size([192]) - 0.00 MB\n",
      "Tensor of shape torch.Size([192]) - 0.00 MB\n",
      "Tensor of shape torch.Size([768, 192]) - 0.56 MB\n",
      "Tensor of shape torch.Size([768]) - 0.00 MB\n",
      "Tensor of shape torch.Size([192, 768]) - 0.56 MB\n",
      "Tensor of shape torch.Size([192]) - 0.00 MB\n",
      "Tensor of shape torch.Size([192]) - 0.00 MB\n",
      "Tensor of shape torch.Size([192]) - 0.00 MB\n",
      "Tensor of shape torch.Size([64, 12, 16, 3]) - 0.14 MB\n",
      "Tensor of shape torch.Size([64, 12, 16, 3]) - 0.14 MB\n",
      "Tensor of shape torch.Size([64, 12, 16, 3]) - 0.14 MB\n",
      "Tensor of shape torch.Size([576, 192]) - 0.42 MB\n",
      "Tensor of shape torch.Size([576]) - 0.00 MB\n",
      "Tensor of shape torch.Size([192, 192]) - 0.14 MB\n",
      "Tensor of shape torch.Size([192]) - 0.00 MB\n",
      "Tensor of shape torch.Size([192]) - 0.00 MB\n",
      "Tensor of shape torch.Size([192]) - 0.00 MB\n",
      "Tensor of shape torch.Size([768, 192]) - 0.56 MB\n",
      "Tensor of shape torch.Size([768]) - 0.00 MB\n",
      "Tensor of shape torch.Size([192, 768]) - 0.56 MB\n",
      "Tensor of shape torch.Size([192]) - 0.00 MB\n",
      "Tensor of shape torch.Size([192]) - 0.00 MB\n",
      "Tensor of shape torch.Size([192]) - 0.00 MB\n",
      "Tensor of shape torch.Size([384, 192]) - 0.28 MB\n",
      "total 186.72000122070312\n"
     ]
    },
    {
     "name": "stderr",
     "output_type": "stream",
     "text": [
      "/data/vision/polina/projects/wmh/dhollidt/conda/envs/nerfstudio2/lib/python3.8/site-packages/torch/distributed/distributed_c10d.py:262: UserWarning: torch.distributed.reduce_op is deprecated, please use torch.distributed.ReduceOp instead\n",
      "  warnings.warn(\n"
     ]
    }
   ],
   "source": [
    "import gc\n",
    "\n",
    "total = 0\n",
    "for obj in gc.get_objects():\n",
    "    if torch.is_tensor(obj) and obj.is_cuda:\n",
    "        print(f\"Tensor of shape {obj.size()} - {obj.element_size() * obj.nelement() / 1024**2:.2f} MB\")\n",
    "        total += obj.element_size() * obj.nelement() / 1024**2\n",
    "        del obj\n",
    "print(\"total\", total)"
   ]
  },
  {
   "cell_type": "code",
   "execution_count": 33,
   "metadata": {},
   "outputs": [
    {
     "data": {
      "text/plain": [
       "[{'device': 0,\n",
       "  'address': 140565677080576,\n",
       "  'total_size': 134217728,\n",
       "  'allocated_size': 80216064,\n",
       "  'active_size': 80216064,\n",
       "  'stream': 0,\n",
       "  'segment_type': 'large',\n",
       "  'blocks': [{'size': 54001664, 'state': 'active_allocated'},\n",
       "   {'size': 54001664, 'state': 'inactive'},\n",
       "   {'size': 26214400, 'state': 'active_allocated'}]},\n",
       " {'device': 0,\n",
       "  'address': 140567287693312,\n",
       "  'total_size': 2097152,\n",
       "  'allocated_size': 512,\n",
       "  'active_size': 512,\n",
       "  'stream': 0,\n",
       "  'segment_type': 'small',\n",
       "  'blocks': [{'size': 2096128, 'state': 'inactive'},\n",
       "   {'size': 512, 'state': 'active_allocated'},\n",
       "   {'size': 512, 'state': 'inactive'}]},\n",
       " {'device': 0,\n",
       "  'address': 140567293984768,\n",
       "  'total_size': 2097152,\n",
       "  'allocated_size': 512,\n",
       "  'active_size': 512,\n",
       "  'stream': 0,\n",
       "  'segment_type': 'small',\n",
       "  'blocks': [{'size': 1771008, 'state': 'inactive'},\n",
       "   {'size': 512, 'state': 'active_allocated'},\n",
       "   {'size': 325632, 'state': 'inactive'}]},\n",
       " {'device': 0,\n",
       "  'address': 140567325442048,\n",
       "  'total_size': 2097152,\n",
       "  'allocated_size': 2064384,\n",
       "  'active_size': 2064384,\n",
       "  'stream': 0,\n",
       "  'segment_type': 'small',\n",
       "  'blocks': [{'size': 589824, 'state': 'active_allocated'},\n",
       "   {'size': 589824, 'state': 'active_allocated'},\n",
       "   {'size': 147456, 'state': 'active_allocated'},\n",
       "   {'size': 147456, 'state': 'active_allocated'},\n",
       "   {'size': 147456, 'state': 'active_allocated'},\n",
       "   {'size': 147456, 'state': 'active_allocated'},\n",
       "   {'size': 147456, 'state': 'active_allocated'},\n",
       "   {'size': 147456, 'state': 'active_allocated'},\n",
       "   {'size': 32768, 'state': 'inactive'}]},\n",
       " {'device': 0,\n",
       "  'address': 140567327539200,\n",
       "  'total_size': 2097152,\n",
       "  'allocated_size': 2064384,\n",
       "  'active_size': 2064384,\n",
       "  'stream': 0,\n",
       "  'segment_type': 'small',\n",
       "  'blocks': [{'size': 589824, 'state': 'active_allocated'},\n",
       "   {'size': 589824, 'state': 'active_allocated'},\n",
       "   {'size': 442368, 'state': 'active_allocated'},\n",
       "   {'size': 147456, 'state': 'active_allocated'},\n",
       "   {'size': 147456, 'state': 'active_allocated'},\n",
       "   {'size': 147456, 'state': 'active_allocated'},\n",
       "   {'size': 32768, 'state': 'inactive'}]},\n",
       " {'device': 0,\n",
       "  'address': 140567329636352,\n",
       "  'total_size': 2097152,\n",
       "  'allocated_size': 2064384,\n",
       "  'active_size': 2064384,\n",
       "  'stream': 0,\n",
       "  'segment_type': 'small',\n",
       "  'blocks': [{'size': 589824, 'state': 'active_allocated'},\n",
       "   {'size': 589824, 'state': 'active_allocated'},\n",
       "   {'size': 442368, 'state': 'active_allocated'},\n",
       "   {'size': 147456, 'state': 'active_allocated'},\n",
       "   {'size': 147456, 'state': 'active_allocated'},\n",
       "   {'size': 147456, 'state': 'active_allocated'},\n",
       "   {'size': 32768, 'state': 'inactive'}]},\n",
       " {'device': 0,\n",
       "  'address': 140567331733504,\n",
       "  'total_size': 2097152,\n",
       "  'allocated_size': 2064384,\n",
       "  'active_size': 2064384,\n",
       "  'stream': 0,\n",
       "  'segment_type': 'small',\n",
       "  'blocks': [{'size': 589824, 'state': 'active_allocated'},\n",
       "   {'size': 589824, 'state': 'active_allocated'},\n",
       "   {'size': 442368, 'state': 'active_allocated'},\n",
       "   {'size': 147456, 'state': 'active_allocated'},\n",
       "   {'size': 147456, 'state': 'active_allocated'},\n",
       "   {'size': 147456, 'state': 'active_allocated'},\n",
       "   {'size': 32768, 'state': 'inactive'}]},\n",
       " {'device': 0,\n",
       "  'address': 140569179324416,\n",
       "  'total_size': 2097152,\n",
       "  'allocated_size': 2064384,\n",
       "  'active_size': 2064384,\n",
       "  'stream': 0,\n",
       "  'segment_type': 'small',\n",
       "  'blocks': [{'size': 589824, 'state': 'active_allocated'},\n",
       "   {'size': 147456, 'state': 'active_allocated'},\n",
       "   {'size': 147456, 'state': 'active_allocated'},\n",
       "   {'size': 147456, 'state': 'active_allocated'},\n",
       "   {'size': 442368, 'state': 'active_allocated'},\n",
       "   {'size': 589824, 'state': 'active_allocated'},\n",
       "   {'size': 32768, 'state': 'inactive'}]},\n",
       " {'device': 0,\n",
       "  'address': 140569181421568,\n",
       "  'total_size': 2097152,\n",
       "  'allocated_size': 215040,\n",
       "  'active_size': 215040,\n",
       "  'stream': 0,\n",
       "  'segment_type': 'small',\n",
       "  'blocks': [{'size': 367616, 'state': 'inactive'},\n",
       "   {'size': 1024, 'state': 'active_allocated'},\n",
       "   {'size': 1024, 'state': 'active_allocated'},\n",
       "   {'size': 1024, 'state': 'active_allocated'},\n",
       "   {'size': 1024, 'state': 'active_allocated'},\n",
       "   {'size': 512, 'state': 'active_allocated'},\n",
       "   {'size': 3584, 'state': 'inactive'},\n",
       "   {'size': 512, 'state': 'active_allocated'},\n",
       "   {'size': 5632, 'state': 'inactive'},\n",
       "   {'size': 1536, 'state': 'active_allocated'},\n",
       "   {'size': 512, 'state': 'active_allocated'},\n",
       "   {'size': 512, 'state': 'active_allocated'},\n",
       "   {'size': 512, 'state': 'active_allocated'},\n",
       "   {'size': 206336, 'state': 'inactive'},\n",
       "   {'size': 147456, 'state': 'active_allocated'},\n",
       "   {'size': 36864, 'state': 'active_allocated'},\n",
       "   {'size': 7168, 'state': 'inactive'},\n",
       "   {'size': 512, 'state': 'active_allocated'},\n",
       "   {'size': 512, 'state': 'active_allocated'},\n",
       "   {'size': 1536, 'state': 'active_allocated'},\n",
       "   {'size': 512, 'state': 'active_allocated'},\n",
       "   {'size': 1024, 'state': 'active_allocated'},\n",
       "   {'size': 1536, 'state': 'active_allocated'},\n",
       "   {'size': 2560, 'state': 'active_allocated'},\n",
       "   {'size': 1024, 'state': 'active_allocated'},\n",
       "   {'size': 512, 'state': 'active_allocated'},\n",
       "   {'size': 1024, 'state': 'active_allocated'},\n",
       "   {'size': 512, 'state': 'active_allocated'},\n",
       "   {'size': 369152, 'state': 'inactive'},\n",
       "   {'size': 512, 'state': 'active_allocated'},\n",
       "   {'size': 1536, 'state': 'active_allocated'},\n",
       "   {'size': 512, 'state': 'active_allocated'},\n",
       "   {'size': 329728, 'state': 'inactive'},\n",
       "   {'size': 512, 'state': 'active_allocated'},\n",
       "   {'size': 512, 'state': 'active_allocated'},\n",
       "   {'size': 4096, 'state': 'inactive'},\n",
       "   {'size': 512, 'state': 'active_allocated'},\n",
       "   {'size': 479232, 'state': 'inactive'},\n",
       "   {'size': 512, 'state': 'active_allocated'},\n",
       "   {'size': 512, 'state': 'active_allocated'},\n",
       "   {'size': 512, 'state': 'active_allocated'},\n",
       "   {'size': 98304, 'state': 'inactive'},\n",
       "   {'size': 1024, 'state': 'active_allocated'},\n",
       "   {'size': 1024, 'state': 'inactive'},\n",
       "   {'size': 512, 'state': 'active_allocated'},\n",
       "   {'size': 512, 'state': 'active_allocated'},\n",
       "   {'size': 1024, 'state': 'active_allocated'},\n",
       "   {'size': 1024, 'state': 'inactive'},\n",
       "   {'size': 512, 'state': 'active_allocated'},\n",
       "   {'size': 1024, 'state': 'active_allocated'},\n",
       "   {'size': 2048, 'state': 'inactive'},\n",
       "   {'size': 512, 'state': 'active_allocated'},\n",
       "   {'size': 512, 'state': 'inactive'},\n",
       "   {'size': 512, 'state': 'active_allocated'},\n",
       "   {'size': 6656, 'state': 'inactive'}]},\n",
       " {'device': 0,\n",
       "  'address': 140569183518720,\n",
       "  'total_size': 2097152,\n",
       "  'allocated_size': 599552,\n",
       "  'active_size': 599552,\n",
       "  'stream': 0,\n",
       "  'segment_type': 'small',\n",
       "  'blocks': [{'size': 791040, 'state': 'inactive'},\n",
       "   {'size': 36864, 'state': 'active_allocated'},\n",
       "   {'size': 64512, 'state': 'inactive'},\n",
       "   {'size': 147456, 'state': 'active_allocated'},\n",
       "   {'size': 23040, 'state': 'inactive'},\n",
       "   {'size': 1024, 'state': 'active_allocated'},\n",
       "   {'size': 1024, 'state': 'inactive'},\n",
       "   {'size': 36864, 'state': 'active_allocated'},\n",
       "   {'size': 23552, 'state': 'inactive'},\n",
       "   {'size': 1024, 'state': 'active_allocated'},\n",
       "   {'size': 147456, 'state': 'active_allocated'},\n",
       "   {'size': 36864, 'state': 'active_allocated'},\n",
       "   {'size': 1024, 'state': 'active_allocated'},\n",
       "   {'size': 512, 'state': 'inactive'},\n",
       "   {'size': 1024, 'state': 'active_allocated'},\n",
       "   {'size': 108544, 'state': 'inactive'},\n",
       "   {'size': 512, 'state': 'active_allocated'},\n",
       "   {'size': 1024, 'state': 'active_allocated'},\n",
       "   {'size': 2560, 'state': 'active_allocated'},\n",
       "   {'size': 1024, 'state': 'active_allocated'},\n",
       "   {'size': 1024, 'state': 'active_allocated'},\n",
       "   {'size': 512, 'state': 'active_allocated'},\n",
       "   {'size': 512, 'state': 'inactive'},\n",
       "   {'size': 512, 'state': 'active_allocated'},\n",
       "   {'size': 2560, 'state': 'active_allocated'},\n",
       "   {'size': 120320, 'state': 'inactive'},\n",
       "   {'size': 512, 'state': 'active_allocated'},\n",
       "   {'size': 1024, 'state': 'inactive'},\n",
       "   {'size': 512, 'state': 'active_allocated'},\n",
       "   {'size': 3072, 'state': 'active_allocated'},\n",
       "   {'size': 1024, 'state': 'active_allocated'},\n",
       "   {'size': 1024, 'state': 'active_allocated'},\n",
       "   {'size': 512, 'state': 'active_allocated'},\n",
       "   {'size': 512, 'state': 'active_allocated'},\n",
       "   {'size': 2560, 'state': 'active_allocated'},\n",
       "   {'size': 1024, 'state': 'active_allocated'},\n",
       "   {'size': 1024, 'state': 'active_allocated'},\n",
       "   {'size': 119296, 'state': 'inactive'},\n",
       "   {'size': 1024, 'state': 'active_allocated'},\n",
       "   {'size': 7168, 'state': 'inactive'},\n",
       "   {'size': 1024, 'state': 'active_allocated'},\n",
       "   {'size': 1024, 'state': 'active_allocated'},\n",
       "   {'size': 1024, 'state': 'active_allocated'},\n",
       "   {'size': 1024, 'state': 'active_allocated'},\n",
       "   {'size': 512, 'state': 'active_allocated'},\n",
       "   {'size': 1024, 'state': 'active_allocated'},\n",
       "   {'size': 117760, 'state': 'inactive'},\n",
       "   {'size': 512, 'state': 'active_allocated'},\n",
       "   {'size': 1024, 'state': 'active_allocated'},\n",
       "   {'size': 3072, 'state': 'active_allocated'},\n",
       "   {'size': 1024, 'state': 'active_allocated'},\n",
       "   {'size': 512, 'state': 'active_allocated'},\n",
       "   {'size': 512, 'state': 'active_allocated'},\n",
       "   {'size': 512, 'state': 'active_allocated'},\n",
       "   {'size': 1024, 'state': 'active_allocated'},\n",
       "   {'size': 1024, 'state': 'active_allocated'},\n",
       "   {'size': 147456, 'state': 'active_allocated'},\n",
       "   {'size': 115200, 'state': 'inactive'},\n",
       "   {'size': 1536, 'state': 'active_allocated'},\n",
       "   {'size': 512, 'state': 'active_allocated'},\n",
       "   {'size': 3072, 'state': 'active_allocated'},\n",
       "   {'size': 4096, 'state': 'inactive'}]},\n",
       " {'device': 0,\n",
       "  'address': 140569185615872,\n",
       "  'total_size': 2097152,\n",
       "  'allocated_size': 1707008,\n",
       "  'active_size': 1707008,\n",
       "  'stream': 0,\n",
       "  'segment_type': 'small',\n",
       "  'blocks': [{'size': 104448, 'state': 'inactive'},\n",
       "   {'size': 1536, 'state': 'active_allocated'},\n",
       "   {'size': 73728, 'state': 'active_allocated'},\n",
       "   {'size': 14336, 'state': 'inactive'},\n",
       "   {'size': 9216, 'state': 'active_allocated'},\n",
       "   {'size': 512, 'state': 'active_allocated'},\n",
       "   {'size': 147968, 'state': 'inactive'},\n",
       "   {'size': 442368, 'state': 'active_allocated'},\n",
       "   {'size': 589824, 'state': 'active_allocated'},\n",
       "   {'size': 589824, 'state': 'active_allocated'},\n",
       "   {'size': 123392, 'state': 'inactive'}]},\n",
       " {'device': 0,\n",
       "  'address': 140569187713024,\n",
       "  'total_size': 918552576,\n",
       "  'allocated_size': 79168000,\n",
       "  'active_size': 79168000,\n",
       "  'stream': 0,\n",
       "  'segment_type': 'large',\n",
       "  'blocks': [{'size': 54002176, 'state': 'active_allocated'},\n",
       "   {'size': 112739840, 'state': 'inactive'},\n",
       "   {'size': 25165824, 'state': 'active_allocated'},\n",
       "   {'size': 726644736, 'state': 'inactive'}]},\n",
       " {'device': 0,\n",
       "  'address': 140571016429568,\n",
       "  'total_size': 2097152,\n",
       "  'allocated_size': 1882112,\n",
       "  'active_size': 1882112,\n",
       "  'stream': 0,\n",
       "  'segment_type': 'small',\n",
       "  'blocks': [{'size': 73728, 'state': 'active_allocated'},\n",
       "   {'size': 442368, 'state': 'active_allocated'},\n",
       "   {'size': 147456, 'state': 'active_allocated'},\n",
       "   {'size': 57344, 'state': 'inactive'},\n",
       "   {'size': 1024, 'state': 'active_allocated'},\n",
       "   {'size': 4096, 'state': 'inactive'},\n",
       "   {'size': 1024, 'state': 'active_allocated'},\n",
       "   {'size': 2048, 'state': 'inactive'},\n",
       "   {'size': 36864, 'state': 'active_allocated'},\n",
       "   {'size': 22016, 'state': 'inactive'},\n",
       "   {'size': 589824, 'state': 'active_allocated'},\n",
       "   {'size': 147456, 'state': 'active_allocated'},\n",
       "   {'size': 442368, 'state': 'active_allocated'},\n",
       "   {'size': 129536, 'state': 'inactive'}]},\n",
       " {'device': 0,\n",
       "  'address': 140571018526720,\n",
       "  'total_size': 2097152,\n",
       "  'allocated_size': 2064384,\n",
       "  'active_size': 2064384,\n",
       "  'stream': 0,\n",
       "  'segment_type': 'small',\n",
       "  'blocks': [{'size': 147456, 'state': 'active_allocated'},\n",
       "   {'size': 589824, 'state': 'active_allocated'},\n",
       "   {'size': 589824, 'state': 'active_allocated'},\n",
       "   {'size': 294912, 'state': 'active_allocated'},\n",
       "   {'size': 294912, 'state': 'active_allocated'},\n",
       "   {'size': 147456, 'state': 'active_allocated'},\n",
       "   {'size': 32768, 'state': 'inactive'}]},\n",
       " {'device': 0,\n",
       "  'address': 140571020623872,\n",
       "  'total_size': 2097152,\n",
       "  'allocated_size': 2064384,\n",
       "  'active_size': 2064384,\n",
       "  'stream': 0,\n",
       "  'segment_type': 'small',\n",
       "  'blocks': [{'size': 589824, 'state': 'active_allocated'},\n",
       "   {'size': 294912, 'state': 'active_allocated'},\n",
       "   {'size': 294912, 'state': 'active_allocated'},\n",
       "   {'size': 589824, 'state': 'active_allocated'},\n",
       "   {'size': 294912, 'state': 'active_allocated'},\n",
       "   {'size': 32768, 'state': 'inactive'}]},\n",
       " {'device': 0,\n",
       "  'address': 140571022721024,\n",
       "  'total_size': 2097152,\n",
       "  'allocated_size': 2000896,\n",
       "  'active_size': 2000896,\n",
       "  'stream': 0,\n",
       "  'segment_type': 'small',\n",
       "  'blocks': [{'size': 294912, 'state': 'active_allocated'},\n",
       "   {'size': 294912, 'state': 'active_allocated'},\n",
       "   {'size': 294912, 'state': 'active_allocated'},\n",
       "   {'size': 294912, 'state': 'active_allocated'},\n",
       "   {'size': 294912, 'state': 'active_allocated'},\n",
       "   {'size': 294912, 'state': 'active_allocated'},\n",
       "   {'size': 147456, 'state': 'active_allocated'},\n",
       "   {'size': 36864, 'state': 'active_allocated'},\n",
       "   {'size': 5120, 'state': 'inactive'},\n",
       "   {'size': 1024, 'state': 'active_allocated'},\n",
       "   {'size': 3584, 'state': 'inactive'},\n",
       "   {'size': 36864, 'state': 'active_allocated'},\n",
       "   {'size': 48640, 'state': 'inactive'},\n",
       "   {'size': 9216, 'state': 'active_allocated'},\n",
       "   {'size': 38912, 'state': 'inactive'}]},\n",
       " {'device': 0,\n",
       "  'address': 140571951759360,\n",
       "  'total_size': 2097152,\n",
       "  'allocated_size': 512,\n",
       "  'active_size': 512,\n",
       "  'stream': 0,\n",
       "  'segment_type': 'small',\n",
       "  'blocks': [{'size': 1589760, 'state': 'inactive'},\n",
       "   {'size': 512, 'state': 'active_allocated'},\n",
       "   {'size': 506880, 'state': 'inactive'}]},\n",
       " {'device': 0,\n",
       "  'address': 140571964342272,\n",
       "  'total_size': 1837105152,\n",
       "  'allocated_size': 25165824,\n",
       "  'active_size': 25165824,\n",
       "  'stream': 0,\n",
       "  'segment_type': 'large',\n",
       "  'blocks': [{'size': 315160064, 'state': 'inactive'},\n",
       "   {'size': 25165824, 'state': 'active_allocated'},\n",
       "   {'size': 1496779264, 'state': 'inactive'}]},\n",
       " {'device': 0,\n",
       "  'address': 140576393527296,\n",
       "  'total_size': 20971520,\n",
       "  'allocated_size': 19464192,\n",
       "  'active_size': 19464192,\n",
       "  'stream': 0,\n",
       "  'segment_type': 'large',\n",
       "  'blocks': [{'size': 2359296, 'state': 'active_allocated'},\n",
       "   {'size': 2359296, 'state': 'active_allocated'},\n",
       "   {'size': 1769472, 'state': 'active_allocated'},\n",
       "   {'size': 1769472, 'state': 'active_allocated'},\n",
       "   {'size': 2359296, 'state': 'active_allocated'},\n",
       "   {'size': 2359296, 'state': 'active_allocated'},\n",
       "   {'size': 1769472, 'state': 'active_allocated'},\n",
       "   {'size': 2359296, 'state': 'active_allocated'},\n",
       "   {'size': 2359296, 'state': 'active_allocated'},\n",
       "   {'size': 1507328, 'state': 'inactive'}]},\n",
       " {'device': 0,\n",
       "  'address': 140576414498816,\n",
       "  'total_size': 2097152,\n",
       "  'allocated_size': 2066432,\n",
       "  'active_size': 2066432,\n",
       "  'stream': 0,\n",
       "  'segment_type': 'small',\n",
       "  'blocks': [{'size': 589824, 'state': 'active_allocated'},\n",
       "   {'size': 147456, 'state': 'active_allocated'},\n",
       "   {'size': 147456, 'state': 'active_allocated'},\n",
       "   {'size': 147456, 'state': 'active_allocated'},\n",
       "   {'size': 147456, 'state': 'active_allocated'},\n",
       "   {'size': 442368, 'state': 'active_allocated'},\n",
       "   {'size': 147456, 'state': 'active_allocated'},\n",
       "   {'size': 296960, 'state': 'active_allocated'},\n",
       "   {'size': 30720, 'state': 'inactive'}]},\n",
       " {'device': 0,\n",
       "  'address': 140576424984576,\n",
       "  'total_size': 2097152,\n",
       "  'allocated_size': 1967616,\n",
       "  'active_size': 1967616,\n",
       "  'stream': 0,\n",
       "  'segment_type': 'small',\n",
       "  'blocks': [{'size': 147456, 'state': 'active_allocated'},\n",
       "   {'size': 296960, 'state': 'active_allocated'},\n",
       "   {'size': 73728, 'state': 'active_allocated'},\n",
       "   {'size': 73728, 'state': 'active_allocated'},\n",
       "   {'size': 147456, 'state': 'active_allocated'},\n",
       "   {'size': 147456, 'state': 'active_allocated'},\n",
       "   {'size': 36864, 'state': 'active_allocated'},\n",
       "   {'size': 9216, 'state': 'active_allocated'},\n",
       "   {'size': 512, 'state': 'active_allocated'},\n",
       "   {'size': 512, 'state': 'active_allocated'},\n",
       "   {'size': 512, 'state': 'active_allocated'},\n",
       "   {'size': 1024, 'state': 'active_allocated'},\n",
       "   {'size': 589824, 'state': 'active_allocated'},\n",
       "   {'size': 147456, 'state': 'active_allocated'},\n",
       "   {'size': 147456, 'state': 'active_allocated'},\n",
       "   {'size': 147456, 'state': 'active_allocated'},\n",
       "   {'size': 129536, 'state': 'inactive'}]},\n",
       " {'device': 0,\n",
       "  'address': 140576429178880,\n",
       "  'total_size': 2097152,\n",
       "  'allocated_size': 1993728,\n",
       "  'active_size': 1993728,\n",
       "  'stream': 0,\n",
       "  'segment_type': 'small',\n",
       "  'blocks': [{'size': 589824, 'state': 'active_allocated'},\n",
       "   {'size': 147456, 'state': 'active_allocated'},\n",
       "   {'size': 36864, 'state': 'active_allocated'},\n",
       "   {'size': 17408, 'state': 'inactive'},\n",
       "   {'size': 73728, 'state': 'active_allocated'},\n",
       "   {'size': 6144, 'state': 'active_allocated'},\n",
       "   {'size': 9216, 'state': 'active_allocated'},\n",
       "   {'size': 512, 'state': 'active_allocated'},\n",
       "   {'size': 512, 'state': 'active_allocated'},\n",
       "   {'size': 512, 'state': 'active_allocated'},\n",
       "   {'size': 512, 'state': 'active_allocated'},\n",
       "   {'size': 512, 'state': 'active_allocated'},\n",
       "   {'size': 512, 'state': 'active_allocated'},\n",
       "   {'size': 512, 'state': 'active_allocated'},\n",
       "   {'size': 1536, 'state': 'active_allocated'},\n",
       "   {'size': 1024, 'state': 'active_allocated'},\n",
       "   {'size': 512, 'state': 'inactive'},\n",
       "   {'size': 3072, 'state': 'active_allocated'},\n",
       "   {'size': 1024, 'state': 'active_allocated'},\n",
       "   {'size': 512, 'state': 'active_allocated'},\n",
       "   {'size': 512, 'state': 'active_allocated'},\n",
       "   {'size': 36864, 'state': 'active_allocated'},\n",
       "   {'size': 512, 'state': 'inactive'},\n",
       "   {'size': 512, 'state': 'active_allocated'},\n",
       "   {'size': 512, 'state': 'active_allocated'},\n",
       "   {'size': 36864, 'state': 'active_allocated'},\n",
       "   {'size': 9216, 'state': 'active_allocated'},\n",
       "   {'size': 4608, 'state': 'active_allocated'},\n",
       "   {'size': 1536, 'state': 'active_allocated'},\n",
       "   {'size': 512, 'state': 'active_allocated'},\n",
       "   {'size': 1024, 'state': 'active_allocated'},\n",
       "   {'size': 1024, 'state': 'active_allocated'},\n",
       "   {'size': 2560, 'state': 'active_allocated'},\n",
       "   {'size': 1024, 'state': 'active_allocated'},\n",
       "   {'size': 1024, 'state': 'active_allocated'},\n",
       "   {'size': 27136, 'state': 'inactive'},\n",
       "   {'size': 147456, 'state': 'active_allocated'},\n",
       "   {'size': 110592, 'state': 'active_allocated'},\n",
       "   {'size': 512, 'state': 'active_allocated'},\n",
       "   {'size': 110592, 'state': 'active_allocated'},\n",
       "   {'size': 1536, 'state': 'active_allocated'},\n",
       "   {'size': 1536, 'state': 'active_allocated'},\n",
       "   {'size': 512, 'state': 'active_allocated'},\n",
       "   {'size': 1536, 'state': 'active_allocated'},\n",
       "   {'size': 1536, 'state': 'active_allocated'},\n",
       "   {'size': 73728, 'state': 'active_allocated'},\n",
       "   {'size': 73728, 'state': 'active_allocated'},\n",
       "   {'size': 36864, 'state': 'active_allocated'},\n",
       "   {'size': 294912, 'state': 'active_allocated'},\n",
       "   {'size': 73728, 'state': 'active_allocated'},\n",
       "   {'size': 22528, 'state': 'inactive'},\n",
       "   {'size': 1024, 'state': 'active_allocated'},\n",
       "   {'size': 2560, 'state': 'active_allocated'},\n",
       "   {'size': 1024, 'state': 'active_allocated'},\n",
       "   {'size': 1024, 'state': 'active_allocated'},\n",
       "   {'size': 1024, 'state': 'active_allocated'},\n",
       "   {'size': 3072, 'state': 'active_allocated'},\n",
       "   {'size': 1024, 'state': 'active_allocated'},\n",
       "   {'size': 1024, 'state': 'active_allocated'},\n",
       "   {'size': 1024, 'state': 'active_allocated'},\n",
       "   {'size': 2560, 'state': 'active_allocated'},\n",
       "   {'size': 512, 'state': 'active_allocated'},\n",
       "   {'size': 1024, 'state': 'active_allocated'},\n",
       "   {'size': 36864, 'state': 'active_allocated'},\n",
       "   {'size': 36864, 'state': 'active_allocated'},\n",
       "   {'size': 35328, 'state': 'inactive'},\n",
       "   {'size': 512, 'state': 'active_allocated'},\n",
       "   {'size': 512, 'state': 'active_allocated'},\n",
       "   {'size': 512, 'state': 'active_allocated'},\n",
       "   {'size': 512, 'state': 'active_allocated'},\n",
       "   {'size': 512, 'state': 'active_allocated'}]},\n",
       " {'device': 0,\n",
       "  'address': 140576431276032,\n",
       "  'total_size': 2097152,\n",
       "  'allocated_size': 1998336,\n",
       "  'active_size': 1998336,\n",
       "  'stream': 0,\n",
       "  'segment_type': 'small',\n",
       "  'blocks': [{'size': 27648, 'state': 'active_allocated'},\n",
       "   {'size': 36864, 'state': 'active_allocated'},\n",
       "   {'size': 1536, 'state': 'active_allocated'},\n",
       "   {'size': 512, 'state': 'active_allocated'},\n",
       "   {'size': 512, 'state': 'active_allocated'},\n",
       "   {'size': 1536, 'state': 'active_allocated'},\n",
       "   {'size': 512, 'state': 'active_allocated'},\n",
       "   {'size': 512, 'state': 'active_allocated'},\n",
       "   {'size': 1536, 'state': 'active_allocated'},\n",
       "   {'size': 512, 'state': 'active_allocated'},\n",
       "   {'size': 512, 'state': 'active_allocated'},\n",
       "   {'size': 36864, 'state': 'active_allocated'},\n",
       "   {'size': 29184, 'state': 'inactive'},\n",
       "   {'size': 512, 'state': 'active_allocated'},\n",
       "   {'size': 2560, 'state': 'active_allocated'},\n",
       "   {'size': 1024, 'state': 'active_allocated'},\n",
       "   {'size': 3072, 'state': 'active_allocated'},\n",
       "   {'size': 1024, 'state': 'active_allocated'},\n",
       "   {'size': 1024, 'state': 'active_allocated'},\n",
       "   {'size': 73728, 'state': 'active_allocated'},\n",
       "   {'size': 26112, 'state': 'inactive'},\n",
       "   {'size': 147456, 'state': 'active_allocated'},\n",
       "   {'size': 73728, 'state': 'active_allocated'},\n",
       "   {'size': 36864, 'state': 'active_allocated'},\n",
       "   {'size': 16896, 'state': 'inactive'},\n",
       "   {'size': 294912, 'state': 'active_allocated'},\n",
       "   {'size': 73728, 'state': 'active_allocated'},\n",
       "   {'size': 2048, 'state': 'inactive'},\n",
       "   {'size': 110592, 'state': 'active_allocated'},\n",
       "   {'size': 36864, 'state': 'active_allocated'},\n",
       "   {'size': 512, 'state': 'active_allocated'},\n",
       "   {'size': 512, 'state': 'active_allocated'},\n",
       "   {'size': 512, 'state': 'active_allocated'},\n",
       "   {'size': 1536, 'state': 'active_allocated'},\n",
       "   {'size': 1024, 'state': 'active_allocated'},\n",
       "   {'size': 147456, 'state': 'active_allocated'},\n",
       "   {'size': 147456, 'state': 'active_allocated'},\n",
       "   {'size': 147456, 'state': 'active_allocated'},\n",
       "   {'size': 442368, 'state': 'active_allocated'},\n",
       "   {'size': 73728, 'state': 'active_allocated'},\n",
       "   {'size': 24576, 'state': 'inactive'},\n",
       "   {'size': 1536, 'state': 'active_allocated'},\n",
       "   {'size': 1536, 'state': 'active_allocated'},\n",
       "   {'size': 512, 'state': 'active_allocated'},\n",
       "   {'size': 1024, 'state': 'active_allocated'},\n",
       "   {'size': 36864, 'state': 'active_allocated'},\n",
       "   {'size': 6144, 'state': 'active_allocated'},\n",
       "   {'size': 1536, 'state': 'active_allocated'},\n",
       "   {'size': 1536, 'state': 'active_allocated'},\n",
       "   {'size': 4608, 'state': 'active_allocated'},\n",
       "   {'size': 1536, 'state': 'active_allocated'},\n",
       "   {'size': 1536, 'state': 'active_allocated'},\n",
       "   {'size': 1536, 'state': 'active_allocated'},\n",
       "   {'size': 1024, 'state': 'active_allocated'},\n",
       "   {'size': 512, 'state': 'active_allocated'},\n",
       "   {'size': 1024, 'state': 'active_allocated'},\n",
       "   {'size': 3072, 'state': 'active_allocated'},\n",
       "   {'size': 1024, 'state': 'active_allocated'},\n",
       "   {'size': 1024, 'state': 'active_allocated'},\n",
       "   {'size': 1024, 'state': 'active_allocated'},\n",
       "   {'size': 1024, 'state': 'active_allocated'}]},\n",
       " {'device': 0,\n",
       "  'address': 140576433373184,\n",
       "  'total_size': 2097152,\n",
       "  'allocated_size': 1587712,\n",
       "  'active_size': 1587712,\n",
       "  'stream': 0,\n",
       "  'segment_type': 'small',\n",
       "  'blocks': [{'size': 108544, 'state': 'inactive'},\n",
       "   {'size': 1024, 'state': 'active_allocated'},\n",
       "   {'size': 1024, 'state': 'active_allocated'},\n",
       "   {'size': 36864, 'state': 'active_allocated'},\n",
       "   {'size': 36864, 'state': 'active_allocated'},\n",
       "   {'size': 36864, 'state': 'active_allocated'},\n",
       "   {'size': 6144, 'state': 'active_allocated'},\n",
       "   {'size': 1536, 'state': 'active_allocated'},\n",
       "   {'size': 1024, 'state': 'active_allocated'},\n",
       "   {'size': 1024, 'state': 'active_allocated'},\n",
       "   {'size': 1536, 'state': 'active_allocated'},\n",
       "   {'size': 1536, 'state': 'active_allocated'},\n",
       "   {'size': 1024, 'state': 'active_allocated'},\n",
       "   {'size': 1024, 'state': 'active_allocated'},\n",
       "   {'size': 1024, 'state': 'active_allocated'},\n",
       "   {'size': 512, 'state': 'active_allocated'},\n",
       "   {'size': 512, 'state': 'active_allocated'},\n",
       "   {'size': 512, 'state': 'active_allocated'},\n",
       "   {'size': 512, 'state': 'active_allocated'},\n",
       "   {'size': 241664, 'state': 'inactive'},\n",
       "   {'size': 512, 'state': 'active_allocated'},\n",
       "   {'size': 512, 'state': 'active_allocated'},\n",
       "   {'size': 6144, 'state': 'active_allocated'},\n",
       "   {'size': 512, 'state': 'active_allocated'},\n",
       "   {'size': 122880, 'state': 'inactive'},\n",
       "   {'size': 1024, 'state': 'active_allocated'},\n",
       "   {'size': 512, 'state': 'active_allocated'},\n",
       "   {'size': 1024, 'state': 'active_allocated'},\n",
       "   {'size': 1536, 'state': 'active_allocated'},\n",
       "   {'size': 1536, 'state': 'active_allocated'},\n",
       "   {'size': 2560, 'state': 'active_allocated'},\n",
       "   {'size': 1024, 'state': 'active_allocated'},\n",
       "   {'size': 1024, 'state': 'active_allocated'},\n",
       "   {'size': 1024, 'state': 'active_allocated'},\n",
       "   {'size': 1024, 'state': 'active_allocated'},\n",
       "   {'size': 512, 'state': 'active_allocated'},\n",
       "   {'size': 110592, 'state': 'active_allocated'},\n",
       "   {'size': 3072, 'state': 'inactive'},\n",
       "   {'size': 3072, 'state': 'active_allocated'},\n",
       "   {'size': 1024, 'state': 'active_allocated'},\n",
       "   {'size': 1024, 'state': 'active_allocated'},\n",
       "   {'size': 1024, 'state': 'active_allocated'},\n",
       "   {'size': 1024, 'state': 'active_allocated'},\n",
       "   {'size': 147456, 'state': 'active_allocated'},\n",
       "   {'size': 36864, 'state': 'active_allocated'},\n",
       "   {'size': 3584, 'state': 'inactive'},\n",
       "   {'size': 27648, 'state': 'active_allocated'},\n",
       "   {'size': 512, 'state': 'active_allocated'},\n",
       "   {'size': 147456, 'state': 'active_allocated'},\n",
       "   {'size': 73728, 'state': 'active_allocated'},\n",
       "   {'size': 8704, 'state': 'inactive'},\n",
       "   {'size': 27648, 'state': 'active_allocated'},\n",
       "   {'size': 512, 'state': 'active_allocated'},\n",
       "   {'size': 73728, 'state': 'active_allocated'},\n",
       "   {'size': 9216, 'state': 'active_allocated'},\n",
       "   {'size': 512, 'state': 'inactive'},\n",
       "   {'size': 18432, 'state': 'active_allocated'},\n",
       "   {'size': 589824, 'state': 'active_allocated'},\n",
       "   {'size': 73728, 'state': 'active_allocated'},\n",
       "   {'size': 20480, 'state': 'inactive'},\n",
       "   {'size': 36864, 'state': 'active_allocated'},\n",
       "   {'size': 36864, 'state': 'active_allocated'},\n",
       "   {'size': 18432, 'state': 'active_allocated'}]},\n",
       " {'device': 0,\n",
       "  'address': 140576963952640,\n",
       "  'total_size': 20971520,\n",
       "  'allocated_size': 6488064,\n",
       "  'active_size': 6488064,\n",
       "  'stream': 0,\n",
       "  'segment_type': 'large',\n",
       "  'blocks': [{'size': 2359296, 'state': 'active_allocated'},\n",
       "   {'size': 2359296, 'state': 'active_allocated'},\n",
       "   {'size': 1769472, 'state': 'active_allocated'},\n",
       "   {'size': 14483456, 'state': 'inactive'}]},\n",
       " {'device': 0,\n",
       "  'address': 140576984924160,\n",
       "  'total_size': 2097152,\n",
       "  'allocated_size': 2081280,\n",
       "  'active_size': 2081280,\n",
       "  'stream': 0,\n",
       "  'segment_type': 'small',\n",
       "  'blocks': [{'size': 589824, 'state': 'active_allocated'},\n",
       "   {'size': 147456, 'state': 'active_allocated'},\n",
       "   {'size': 442368, 'state': 'active_allocated'},\n",
       "   {'size': 589824, 'state': 'active_allocated'},\n",
       "   {'size': 147456, 'state': 'active_allocated'},\n",
       "   {'size': 147456, 'state': 'active_allocated'},\n",
       "   {'size': 15872, 'state': 'inactive'},\n",
       "   {'size': 1024, 'state': 'active_allocated'},\n",
       "   {'size': 1024, 'state': 'active_allocated'},\n",
       "   {'size': 1024, 'state': 'active_allocated'},\n",
       "   {'size': 3072, 'state': 'active_allocated'},\n",
       "   {'size': 1024, 'state': 'active_allocated'},\n",
       "   {'size': 1024, 'state': 'active_allocated'},\n",
       "   {'size': 1024, 'state': 'active_allocated'},\n",
       "   {'size': 2560, 'state': 'active_allocated'},\n",
       "   {'size': 1024, 'state': 'active_allocated'},\n",
       "   {'size': 1024, 'state': 'active_allocated'},\n",
       "   {'size': 1024, 'state': 'active_allocated'},\n",
       "   {'size': 1024, 'state': 'active_allocated'},\n",
       "   {'size': 1024, 'state': 'active_allocated'}]},\n",
       " {'device': 0,\n",
       "  'address': 140576987021312,\n",
       "  'total_size': 2097152,\n",
       "  'allocated_size': 2074624,\n",
       "  'active_size': 2074624,\n",
       "  'stream': 0,\n",
       "  'segment_type': 'small',\n",
       "  'blocks': [{'size': 294912, 'state': 'active_allocated'},\n",
       "   {'size': 294912, 'state': 'active_allocated'},\n",
       "   {'size': 147456, 'state': 'active_allocated'},\n",
       "   {'size': 20992, 'state': 'inactive'},\n",
       "   {'size': 2560, 'state': 'active_allocated'},\n",
       "   {'size': 512, 'state': 'inactive'},\n",
       "   {'size': 3072, 'state': 'active_allocated'},\n",
       "   {'size': 1024, 'state': 'active_allocated'},\n",
       "   {'size': 1536, 'state': 'active_allocated'},\n",
       "   {'size': 1536, 'state': 'active_allocated'},\n",
       "   {'size': 4608, 'state': 'active_allocated'},\n",
       "   {'size': 1536, 'state': 'active_allocated'},\n",
       "   {'size': 1536, 'state': 'active_allocated'},\n",
       "   {'size': 1536, 'state': 'active_allocated'},\n",
       "   {'size': 1536, 'state': 'active_allocated'},\n",
       "   {'size': 512, 'state': 'active_allocated'},\n",
       "   {'size': 589824, 'state': 'active_allocated'},\n",
       "   {'size': 589824, 'state': 'active_allocated'},\n",
       "   {'size': 1024, 'state': 'active_allocated'},\n",
       "   {'size': 1024, 'state': 'active_allocated'},\n",
       "   {'size': 36864, 'state': 'active_allocated'},\n",
       "   {'size': 73728, 'state': 'active_allocated'},\n",
       "   {'size': 18432, 'state': 'active_allocated'},\n",
       "   {'size': 3072, 'state': 'active_allocated'},\n",
       "   {'size': 1024, 'state': 'active_allocated'},\n",
       "   {'size': 512, 'state': 'inactive'},\n",
       "   {'size': 1536, 'state': 'active_allocated'},\n",
       "   {'size': 512, 'state': 'inactive'}]},\n",
       " {'device': 0,\n",
       "  'address': 140577012187136,\n",
       "  'total_size': 2097152,\n",
       "  'allocated_size': 2096128,\n",
       "  'active_size': 2096128,\n",
       "  'stream': 0,\n",
       "  'segment_type': 'small',\n",
       "  'blocks': [{'size': 589824, 'state': 'active_allocated'},\n",
       "   {'size': 147456, 'state': 'active_allocated'},\n",
       "   {'size': 147456, 'state': 'active_allocated'},\n",
       "   {'size': 442368, 'state': 'active_allocated'},\n",
       "   {'size': 589824, 'state': 'active_allocated'},\n",
       "   {'size': 147456, 'state': 'active_allocated'},\n",
       "   {'size': 18432, 'state': 'active_allocated'},\n",
       "   {'size': 512, 'state': 'inactive'},\n",
       "   {'size': 1024, 'state': 'active_allocated'},\n",
       "   {'size': 1024, 'state': 'active_allocated'},\n",
       "   {'size': 3072, 'state': 'active_allocated'},\n",
       "   {'size': 1024, 'state': 'active_allocated'},\n",
       "   {'size': 2560, 'state': 'active_allocated'},\n",
       "   {'size': 512, 'state': 'inactive'},\n",
       "   {'size': 4608, 'state': 'active_allocated'}]},\n",
       " {'device': 0,\n",
       "  'address': 140577848950784,\n",
       "  'total_size': 2097152,\n",
       "  'allocated_size': 2097152,\n",
       "  'active_size': 2097152,\n",
       "  'stream': 0,\n",
       "  'segment_type': 'small',\n",
       "  'blocks': [{'size': 512, 'state': 'active_allocated'},\n",
       "   {'size': 294912, 'state': 'active_allocated'},\n",
       "   {'size': 1536, 'state': 'active_allocated'},\n",
       "   {'size': 1024, 'state': 'active_allocated'},\n",
       "   {'size': 512, 'state': 'active_allocated'},\n",
       "   {'size': 512, 'state': 'active_allocated'},\n",
       "   {'size': 512, 'state': 'active_allocated'},\n",
       "   {'size': 512, 'state': 'active_allocated'},\n",
       "   {'size': 147456, 'state': 'active_allocated'},\n",
       "   {'size': 147456, 'state': 'active_allocated'},\n",
       "   {'size': 442368, 'state': 'active_allocated'},\n",
       "   {'size': 589824, 'state': 'active_allocated'},\n",
       "   {'size': 147456, 'state': 'active_allocated'},\n",
       "   {'size': 147456, 'state': 'active_allocated'},\n",
       "   {'size': 147456, 'state': 'active_allocated'},\n",
       "   {'size': 27648, 'state': 'active_allocated'}]}]"
      ]
     },
     "execution_count": 33,
     "metadata": {},
     "output_type": "execute_result"
    }
   ],
   "source": [
    "torch.cuda.memory_snapshot()"
   ]
  },
  {
   "cell_type": "code",
   "execution_count": 20,
   "metadata": {},
   "outputs": [],
   "source": [
    "mb_to_allocate  = 5000\n",
    "tensor = torch.zeros((1024**2 * mb_to_allocate // 4,), device=\"cuda\")"
   ]
  },
  {
   "cell_type": "code",
   "execution_count": 23,
   "metadata": {},
   "outputs": [],
   "source": [
    "torch.cuda.empty_cache()"
   ]
  },
  {
   "cell_type": "code",
   "execution_count": 22,
   "metadata": {},
   "outputs": [],
   "source": [
    "del tensor"
   ]
  },
  {
   "cell_type": "code",
   "execution_count": 4,
   "metadata": {},
   "outputs": [
    {
     "name": "stdout",
     "output_type": "stream",
     "text": [
      "1 max memory usage: 119.06 MB\n",
      "2 max memory usage: 2.29 MB\n",
      "4 max memory usage: 2.32 MB\n",
      "8 max memory usage: 2.43 MB\n",
      "16 max memory usage: 2.71 MB\n",
      "32 max memory usage: 3.49 MB\n",
      "64 max memory usage: 5.83 MB\n",
      "128 max memory usage: 13.67 MB\n",
      "256 max memory usage: 42.02 MB\n",
      "512 max memory usage: 149.37 MB\n",
      "1024 max memory usage: 566.56 MB\n",
      "2048 max memory usage: 2210.94 MB\n",
      "4096 max memory usage: 8739.99 MB\n"
     ]
    },
    {
     "ename": "OutOfMemoryError",
     "evalue": "CUDA out of memory. Tried to allocate 2.00 GiB (GPU 0; 15.74 GiB total capacity; 11.35 GiB already allocated; 1.87 GiB free; 13.10 GiB reserved in total by PyTorch) If reserved memory is >> allocated memory try setting max_split_size_mb to avoid fragmentation.  See documentation for Memory Management and PYTORCH_CUDA_ALLOC_CONF",
     "output_type": "error",
     "traceback": [
      "\u001b[0;31m---------------------------------------------------------------------------\u001b[0m",
      "\u001b[0;31mOutOfMemoryError\u001b[0m                          Traceback (most recent call last)",
      "Cell \u001b[0;32mIn[4], line 15\u001b[0m\n\u001b[1;32m     13\u001b[0m length \u001b[39m=\u001b[39m \u001b[39m2\u001b[39m\u001b[39m*\u001b[39m\u001b[39m*\u001b[39mi\n\u001b[1;32m     14\u001b[0m input_data \u001b[39m=\u001b[39m torch\u001b[39m.\u001b[39mrandn(\u001b[39m1\u001b[39m, length, \u001b[39m64\u001b[39m, device\u001b[39m=\u001b[39m\u001b[39m\"\u001b[39m\u001b[39mcuda:0\u001b[39m\u001b[39m\"\u001b[39m, requires_grad\u001b[39m=\u001b[39m\u001b[39mTrue\u001b[39;00m)\n\u001b[0;32m---> 15\u001b[0m output \u001b[39m=\u001b[39m transformer_encoder(input_data)\n\u001b[1;32m     17\u001b[0m \u001b[39mprint\u001b[39m(\u001b[39mf\u001b[39m\u001b[39m\"\u001b[39m\u001b[39m{\u001b[39;00mlength\u001b[39m}\u001b[39;00m\u001b[39m max memory usage: \u001b[39m\u001b[39m{\u001b[39;00mtorch\u001b[39m.\u001b[39mcuda\u001b[39m.\u001b[39mmax_memory_allocated()\u001b[39m \u001b[39m\u001b[39m/\u001b[39m\u001b[39m \u001b[39m\u001b[39m1024\u001b[39m\u001b[39m*\u001b[39m\u001b[39m*\u001b[39m\u001b[39m2\u001b[39m\u001b[39m:\u001b[39;00m\u001b[39m.2f\u001b[39m\u001b[39m}\u001b[39;00m\u001b[39m MB\u001b[39m\u001b[39m\"\u001b[39m)\n\u001b[1;32m     18\u001b[0m torch\u001b[39m.\u001b[39mcuda\u001b[39m.\u001b[39mreset_peak_memory_stats()\n",
      "File \u001b[0;32m/data/vision/polina/projects/wmh/dhollidt/conda/envs/nerfstudio2/lib/python3.8/site-packages/torch/nn/modules/module.py:1194\u001b[0m, in \u001b[0;36mModule._call_impl\u001b[0;34m(self, *input, **kwargs)\u001b[0m\n\u001b[1;32m   1190\u001b[0m \u001b[39m# If we don't have any hooks, we want to skip the rest of the logic in\u001b[39;00m\n\u001b[1;32m   1191\u001b[0m \u001b[39m# this function, and just call forward.\u001b[39;00m\n\u001b[1;32m   1192\u001b[0m \u001b[39mif\u001b[39;00m \u001b[39mnot\u001b[39;00m (\u001b[39mself\u001b[39m\u001b[39m.\u001b[39m_backward_hooks \u001b[39mor\u001b[39;00m \u001b[39mself\u001b[39m\u001b[39m.\u001b[39m_forward_hooks \u001b[39mor\u001b[39;00m \u001b[39mself\u001b[39m\u001b[39m.\u001b[39m_forward_pre_hooks \u001b[39mor\u001b[39;00m _global_backward_hooks\n\u001b[1;32m   1193\u001b[0m         \u001b[39mor\u001b[39;00m _global_forward_hooks \u001b[39mor\u001b[39;00m _global_forward_pre_hooks):\n\u001b[0;32m-> 1194\u001b[0m     \u001b[39mreturn\u001b[39;00m forward_call(\u001b[39m*\u001b[39;49m\u001b[39minput\u001b[39;49m, \u001b[39m*\u001b[39;49m\u001b[39m*\u001b[39;49mkwargs)\n\u001b[1;32m   1195\u001b[0m \u001b[39m# Do not call functions when jit is used\u001b[39;00m\n\u001b[1;32m   1196\u001b[0m full_backward_hooks, non_full_backward_hooks \u001b[39m=\u001b[39m [], []\n",
      "File \u001b[0;32m/data/vision/polina/projects/wmh/dhollidt/conda/envs/nerfstudio2/lib/python3.8/site-packages/torch/nn/modules/transformer.py:280\u001b[0m, in \u001b[0;36mTransformerEncoder.forward\u001b[0;34m(self, src, mask, src_key_padding_mask)\u001b[0m\n\u001b[1;32m    277\u001b[0m         src_key_padding_mask_for_layers \u001b[39m=\u001b[39m \u001b[39mNone\u001b[39;00m\n\u001b[1;32m    279\u001b[0m \u001b[39mfor\u001b[39;00m mod \u001b[39min\u001b[39;00m \u001b[39mself\u001b[39m\u001b[39m.\u001b[39mlayers:\n\u001b[0;32m--> 280\u001b[0m     output \u001b[39m=\u001b[39m mod(output, src_mask\u001b[39m=\u001b[39;49mmask, src_key_padding_mask\u001b[39m=\u001b[39;49msrc_key_padding_mask_for_layers)\n\u001b[1;32m    282\u001b[0m \u001b[39mif\u001b[39;00m convert_to_nested:\n\u001b[1;32m    283\u001b[0m     output \u001b[39m=\u001b[39m output\u001b[39m.\u001b[39mto_padded_tensor(\u001b[39m0.\u001b[39m)\n",
      "File \u001b[0;32m/data/vision/polina/projects/wmh/dhollidt/conda/envs/nerfstudio2/lib/python3.8/site-packages/torch/nn/modules/module.py:1194\u001b[0m, in \u001b[0;36mModule._call_impl\u001b[0;34m(self, *input, **kwargs)\u001b[0m\n\u001b[1;32m   1190\u001b[0m \u001b[39m# If we don't have any hooks, we want to skip the rest of the logic in\u001b[39;00m\n\u001b[1;32m   1191\u001b[0m \u001b[39m# this function, and just call forward.\u001b[39;00m\n\u001b[1;32m   1192\u001b[0m \u001b[39mif\u001b[39;00m \u001b[39mnot\u001b[39;00m (\u001b[39mself\u001b[39m\u001b[39m.\u001b[39m_backward_hooks \u001b[39mor\u001b[39;00m \u001b[39mself\u001b[39m\u001b[39m.\u001b[39m_forward_hooks \u001b[39mor\u001b[39;00m \u001b[39mself\u001b[39m\u001b[39m.\u001b[39m_forward_pre_hooks \u001b[39mor\u001b[39;00m _global_backward_hooks\n\u001b[1;32m   1193\u001b[0m         \u001b[39mor\u001b[39;00m _global_forward_hooks \u001b[39mor\u001b[39;00m _global_forward_pre_hooks):\n\u001b[0;32m-> 1194\u001b[0m     \u001b[39mreturn\u001b[39;00m forward_call(\u001b[39m*\u001b[39;49m\u001b[39minput\u001b[39;49m, \u001b[39m*\u001b[39;49m\u001b[39m*\u001b[39;49mkwargs)\n\u001b[1;32m   1195\u001b[0m \u001b[39m# Do not call functions when jit is used\u001b[39;00m\n\u001b[1;32m   1196\u001b[0m full_backward_hooks, non_full_backward_hooks \u001b[39m=\u001b[39m [], []\n",
      "File \u001b[0;32m/data/vision/polina/projects/wmh/dhollidt/conda/envs/nerfstudio2/lib/python3.8/site-packages/torch/nn/modules/transformer.py:538\u001b[0m, in \u001b[0;36mTransformerEncoderLayer.forward\u001b[0;34m(self, src, src_mask, src_key_padding_mask)\u001b[0m\n\u001b[1;32m    536\u001b[0m     x \u001b[39m=\u001b[39m x \u001b[39m+\u001b[39m \u001b[39mself\u001b[39m\u001b[39m.\u001b[39m_ff_block(\u001b[39mself\u001b[39m\u001b[39m.\u001b[39mnorm2(x))\n\u001b[1;32m    537\u001b[0m \u001b[39melse\u001b[39;00m:\n\u001b[0;32m--> 538\u001b[0m     x \u001b[39m=\u001b[39m \u001b[39mself\u001b[39m\u001b[39m.\u001b[39mnorm1(x \u001b[39m+\u001b[39m \u001b[39mself\u001b[39;49m\u001b[39m.\u001b[39;49m_sa_block(x, src_mask, src_key_padding_mask))\n\u001b[1;32m    539\u001b[0m     x \u001b[39m=\u001b[39m \u001b[39mself\u001b[39m\u001b[39m.\u001b[39mnorm2(x \u001b[39m+\u001b[39m \u001b[39mself\u001b[39m\u001b[39m.\u001b[39m_ff_block(x))\n\u001b[1;32m    541\u001b[0m \u001b[39mreturn\u001b[39;00m x\n",
      "File \u001b[0;32m/data/vision/polina/projects/wmh/dhollidt/conda/envs/nerfstudio2/lib/python3.8/site-packages/torch/nn/modules/transformer.py:546\u001b[0m, in \u001b[0;36mTransformerEncoderLayer._sa_block\u001b[0;34m(self, x, attn_mask, key_padding_mask)\u001b[0m\n\u001b[1;32m    544\u001b[0m \u001b[39mdef\u001b[39;00m \u001b[39m_sa_block\u001b[39m(\u001b[39mself\u001b[39m, x: Tensor,\n\u001b[1;32m    545\u001b[0m               attn_mask: Optional[Tensor], key_padding_mask: Optional[Tensor]) \u001b[39m-\u001b[39m\u001b[39m>\u001b[39m Tensor:\n\u001b[0;32m--> 546\u001b[0m     x \u001b[39m=\u001b[39m \u001b[39mself\u001b[39;49m\u001b[39m.\u001b[39;49mself_attn(x, x, x,\n\u001b[1;32m    547\u001b[0m                        attn_mask\u001b[39m=\u001b[39;49mattn_mask,\n\u001b[1;32m    548\u001b[0m                        key_padding_mask\u001b[39m=\u001b[39;49mkey_padding_mask,\n\u001b[1;32m    549\u001b[0m                        need_weights\u001b[39m=\u001b[39;49m\u001b[39mFalse\u001b[39;49;00m)[\u001b[39m0\u001b[39m]\n\u001b[1;32m    550\u001b[0m     \u001b[39mreturn\u001b[39;00m \u001b[39mself\u001b[39m\u001b[39m.\u001b[39mdropout1(x)\n",
      "File \u001b[0;32m/data/vision/polina/projects/wmh/dhollidt/conda/envs/nerfstudio2/lib/python3.8/site-packages/torch/nn/modules/module.py:1194\u001b[0m, in \u001b[0;36mModule._call_impl\u001b[0;34m(self, *input, **kwargs)\u001b[0m\n\u001b[1;32m   1190\u001b[0m \u001b[39m# If we don't have any hooks, we want to skip the rest of the logic in\u001b[39;00m\n\u001b[1;32m   1191\u001b[0m \u001b[39m# this function, and just call forward.\u001b[39;00m\n\u001b[1;32m   1192\u001b[0m \u001b[39mif\u001b[39;00m \u001b[39mnot\u001b[39;00m (\u001b[39mself\u001b[39m\u001b[39m.\u001b[39m_backward_hooks \u001b[39mor\u001b[39;00m \u001b[39mself\u001b[39m\u001b[39m.\u001b[39m_forward_hooks \u001b[39mor\u001b[39;00m \u001b[39mself\u001b[39m\u001b[39m.\u001b[39m_forward_pre_hooks \u001b[39mor\u001b[39;00m _global_backward_hooks\n\u001b[1;32m   1193\u001b[0m         \u001b[39mor\u001b[39;00m _global_forward_hooks \u001b[39mor\u001b[39;00m _global_forward_pre_hooks):\n\u001b[0;32m-> 1194\u001b[0m     \u001b[39mreturn\u001b[39;00m forward_call(\u001b[39m*\u001b[39;49m\u001b[39minput\u001b[39;49m, \u001b[39m*\u001b[39;49m\u001b[39m*\u001b[39;49mkwargs)\n\u001b[1;32m   1195\u001b[0m \u001b[39m# Do not call functions when jit is used\u001b[39;00m\n\u001b[1;32m   1196\u001b[0m full_backward_hooks, non_full_backward_hooks \u001b[39m=\u001b[39m [], []\n",
      "File \u001b[0;32m/data/vision/polina/projects/wmh/dhollidt/conda/envs/nerfstudio2/lib/python3.8/site-packages/torch/nn/modules/activation.py:1167\u001b[0m, in \u001b[0;36mMultiheadAttention.forward\u001b[0;34m(self, query, key, value, key_padding_mask, need_weights, attn_mask, average_attn_weights)\u001b[0m\n\u001b[1;32m   1156\u001b[0m     attn_output, attn_output_weights \u001b[39m=\u001b[39m F\u001b[39m.\u001b[39mmulti_head_attention_forward(\n\u001b[1;32m   1157\u001b[0m         query, key, value, \u001b[39mself\u001b[39m\u001b[39m.\u001b[39membed_dim, \u001b[39mself\u001b[39m\u001b[39m.\u001b[39mnum_heads,\n\u001b[1;32m   1158\u001b[0m         \u001b[39mself\u001b[39m\u001b[39m.\u001b[39min_proj_weight, \u001b[39mself\u001b[39m\u001b[39m.\u001b[39min_proj_bias,\n\u001b[0;32m   (...)\u001b[0m\n\u001b[1;32m   1164\u001b[0m         q_proj_weight\u001b[39m=\u001b[39m\u001b[39mself\u001b[39m\u001b[39m.\u001b[39mq_proj_weight, k_proj_weight\u001b[39m=\u001b[39m\u001b[39mself\u001b[39m\u001b[39m.\u001b[39mk_proj_weight,\n\u001b[1;32m   1165\u001b[0m         v_proj_weight\u001b[39m=\u001b[39m\u001b[39mself\u001b[39m\u001b[39m.\u001b[39mv_proj_weight, average_attn_weights\u001b[39m=\u001b[39maverage_attn_weights)\n\u001b[1;32m   1166\u001b[0m \u001b[39melse\u001b[39;00m:\n\u001b[0;32m-> 1167\u001b[0m     attn_output, attn_output_weights \u001b[39m=\u001b[39m F\u001b[39m.\u001b[39;49mmulti_head_attention_forward(\n\u001b[1;32m   1168\u001b[0m         query, key, value, \u001b[39mself\u001b[39;49m\u001b[39m.\u001b[39;49membed_dim, \u001b[39mself\u001b[39;49m\u001b[39m.\u001b[39;49mnum_heads,\n\u001b[1;32m   1169\u001b[0m         \u001b[39mself\u001b[39;49m\u001b[39m.\u001b[39;49min_proj_weight, \u001b[39mself\u001b[39;49m\u001b[39m.\u001b[39;49min_proj_bias,\n\u001b[1;32m   1170\u001b[0m         \u001b[39mself\u001b[39;49m\u001b[39m.\u001b[39;49mbias_k, \u001b[39mself\u001b[39;49m\u001b[39m.\u001b[39;49mbias_v, \u001b[39mself\u001b[39;49m\u001b[39m.\u001b[39;49madd_zero_attn,\n\u001b[1;32m   1171\u001b[0m         \u001b[39mself\u001b[39;49m\u001b[39m.\u001b[39;49mdropout, \u001b[39mself\u001b[39;49m\u001b[39m.\u001b[39;49mout_proj\u001b[39m.\u001b[39;49mweight, \u001b[39mself\u001b[39;49m\u001b[39m.\u001b[39;49mout_proj\u001b[39m.\u001b[39;49mbias,\n\u001b[1;32m   1172\u001b[0m         training\u001b[39m=\u001b[39;49m\u001b[39mself\u001b[39;49m\u001b[39m.\u001b[39;49mtraining,\n\u001b[1;32m   1173\u001b[0m         key_padding_mask\u001b[39m=\u001b[39;49mkey_padding_mask, need_weights\u001b[39m=\u001b[39;49mneed_weights,\n\u001b[1;32m   1174\u001b[0m         attn_mask\u001b[39m=\u001b[39;49mattn_mask, average_attn_weights\u001b[39m=\u001b[39;49maverage_attn_weights)\n\u001b[1;32m   1175\u001b[0m \u001b[39mif\u001b[39;00m \u001b[39mself\u001b[39m\u001b[39m.\u001b[39mbatch_first \u001b[39mand\u001b[39;00m is_batched:\n\u001b[1;32m   1176\u001b[0m     \u001b[39mreturn\u001b[39;00m attn_output\u001b[39m.\u001b[39mtranspose(\u001b[39m1\u001b[39m, \u001b[39m0\u001b[39m), attn_output_weights\n",
      "File \u001b[0;32m/data/vision/polina/projects/wmh/dhollidt/conda/envs/nerfstudio2/lib/python3.8/site-packages/torch/nn/functional.py:5162\u001b[0m, in \u001b[0;36mmulti_head_attention_forward\u001b[0;34m(query, key, value, embed_dim_to_check, num_heads, in_proj_weight, in_proj_bias, bias_k, bias_v, add_zero_attn, dropout_p, out_proj_weight, out_proj_bias, training, key_padding_mask, need_weights, attn_mask, use_separate_proj_weight, q_proj_weight, k_proj_weight, v_proj_weight, static_k, static_v, average_attn_weights)\u001b[0m\n\u001b[1;32m   5160\u001b[0m     attn_output_weights \u001b[39m=\u001b[39m torch\u001b[39m.\u001b[39mbaddbmm(attn_mask, q_scaled, k\u001b[39m.\u001b[39mtranspose(\u001b[39m-\u001b[39m\u001b[39m2\u001b[39m, \u001b[39m-\u001b[39m\u001b[39m1\u001b[39m))\n\u001b[1;32m   5161\u001b[0m \u001b[39melse\u001b[39;00m:\n\u001b[0;32m-> 5162\u001b[0m     attn_output_weights \u001b[39m=\u001b[39m torch\u001b[39m.\u001b[39;49mbmm(q_scaled, k\u001b[39m.\u001b[39;49mtranspose(\u001b[39m-\u001b[39;49m\u001b[39m2\u001b[39;49m, \u001b[39m-\u001b[39;49m\u001b[39m1\u001b[39;49m))\n\u001b[1;32m   5163\u001b[0m attn_output_weights \u001b[39m=\u001b[39m softmax(attn_output_weights, dim\u001b[39m=\u001b[39m\u001b[39m-\u001b[39m\u001b[39m1\u001b[39m)\n\u001b[1;32m   5164\u001b[0m \u001b[39mif\u001b[39;00m dropout_p \u001b[39m>\u001b[39m \u001b[39m0.0\u001b[39m:\n",
      "\u001b[0;31mOutOfMemoryError\u001b[0m: CUDA out of memory. Tried to allocate 2.00 GiB (GPU 0; 15.74 GiB total capacity; 11.35 GiB already allocated; 1.87 GiB free; 13.10 GiB reserved in total by PyTorch) If reserved memory is >> allocated memory try setting max_split_size_mb to avoid fragmentation.  See documentation for Memory Management and PYTORCH_CUDA_ALLOC_CONF"
     ]
    }
   ],
   "source": [
    "import torch\n",
    "encoder_layer = torch.nn.TransformerEncoderLayer(\n",
    "            64,\n",
    "            8,\n",
    "            64,\n",
    "            0.2,\n",
    "            batch_first=True,\n",
    "        )\n",
    "transformer_encoder = torch.nn.TransformerEncoder(encoder_layer, 6)\n",
    "transformer_encoder.to(\"cuda:0\")\n",
    "\n",
    "for i in range(16):\n",
    "    length = 2**i\n",
    "    input_data = torch.randn(1, length, 64, device=\"cuda:0\", requires_grad=True)\n",
    "    output = transformer_encoder(input_data)\n",
    "\n",
    "    print(f\"{length} max memory usage: {torch.cuda.max_memory_allocated() / 1024**2:.2f} MB\")\n",
    "    torch.cuda.reset_peak_memory_stats()\n"
   ]
  },
  {
   "cell_type": "code",
   "execution_count": null,
   "metadata": {},
   "outputs": [],
   "source": []
  }
 ],
 "metadata": {
  "kernelspec": {
   "display_name": "nerfstudio3",
   "language": "python",
   "name": "python3"
  },
  "language_info": {
   "codemirror_mode": {
    "name": "ipython",
    "version": 3
   },
   "file_extension": ".py",
   "mimetype": "text/x-python",
   "name": "python",
   "nbconvert_exporter": "python",
   "pygments_lexer": "ipython3",
   "version": "3.8.16"
  },
  "orig_nbformat": 4,
  "vscode": {
   "interpreter": {
    "hash": "d982505c67f6491cc57124614a47f97cb6b2fba9cbe418d2edc6b5ed45f83d2f"
   }
  }
 },
 "nbformat": 4,
 "nbformat_minor": 2
}
