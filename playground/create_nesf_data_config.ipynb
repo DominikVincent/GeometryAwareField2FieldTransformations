{
 "cells": [
  {
   "cell_type": "code",
   "execution_count": 1,
   "metadata": {},
   "outputs": [],
   "source": [
    "from pathlib import Path\n",
    "import os\n",
    "import json\n",
    "\n",
    "# DATA_BASE_DIR = Path(\"/data/vision/polina/projects/wmh/dhollidt/datasets/toybox-5\")\n",
    "DATA_BASE_DIR = Path(\"/data/vision/polina/projects/wmh/dhollidt/datasets/klevr_nesf\")\n",
    "# DATA_BASE_DIR = Path(\"/data/vision/polina/projects/wmh/dhollidt/kubric_datasets/klevr\")\n",
    "# MODEL_BASE_DIR = Path(\"/data/vision/polina/projects/wmh/dhollidt/documents/nerf/klever_depth_models_nesf\")\n",
    "MODEL_BASE_DIR = Path(\"/data/vision/polina/projects/wmh/dhollidt/documents/nerf/klever_depth_normal_models_nesf\")\n",
    "# MODEL_BASE_DIR = Path(\"/data/vision/polina/projects/wmh/dhollidt/documents/nerf/toybox-5-depth-normal-models\")\n",
    "# MODEL_BASE_DIR = Path(\"/data/vision/polina/projects/wmh/dhollidt/documents/nerf/toybox-5-depth-normal-models-nesf-2\")\n",
    "# MODEL_BASE_DIR = Path(\"/data/vision/polina/projects/wmh/dhollidt/documents/nerf/klevr-normal\")\n",
    "\n",
    "TRAIN_START = 0\n",
    "TEST_START = 100\n",
    "\n",
    "MODEL_NAME=\"depth-nerfacto\"\n",
    "TIMESTAMP = \"07_04_23\"\n",
    "\n",
    "def get_highest_load_step(load_dir: Path):\n",
    "    load_step = sorted(int(x[x.find(\"-\") + 1 : x.find(\".\")]) for x in os.listdir(load_dir))[-1]\n",
    "    return load_step\n",
    "    \n",
    "\n",
    "def create_nesf_data_config(num_scenes: int, split: str, out_path: Path, split_ratio = None):\n",
    "    start = TRAIN_START if split == \"train\" else TEST_START\n",
    "    \n",
    "    \n",
    "    config = []\n",
    "    for scene_idx in range(start, start+num_scenes):\n",
    "        load_dir = MODEL_BASE_DIR / str(scene_idx) / MODEL_NAME / TIMESTAMP / \"nerfstudio_models\"\n",
    "        scene_config = {\n",
    "            \"model_config\": {\n",
    "                # \"is_euclidean_depth\": True,\n",
    "                # \"max_res\": 1536,\n",
    "                # \"depth_sigma\": 0.001,\n",
    "                # \"depth_loss_mult\": 0.01\n",
    "                },\n",
    "            \"data_parser_config\": {\n",
    "                \"data\": str(DATA_BASE_DIR / str(scene_idx)),\n",
    "            },\n",
    "            \"load_step\": get_highest_load_step(load_dir),\n",
    "            \"load_dir\": str(load_dir),\n",
    "            }\n",
    "        \n",
    "        if split == \"test\":\n",
    "            scene_config[\"data_parser_config\"][\"train_split_percentage\"] = 0.0\n",
    "            scene_config[\"set_type\"] = \"test\"\n",
    "            \n",
    "        if split_ratio is not None:\n",
    "            scene_config[\"data_parser_config\"][\"train_split_percentage\"] = split_ratio\n",
    "\n",
    "        config.append(scene_config)\n",
    "        \n",
    "    data_config = {\"config\": config}\n",
    "    \n",
    "    # write to file\n",
    "    with open(out_path, 'w') as f:\n",
    "        json.dump(data_config, f, indent=4)\n",
    "    \n",
    "    "
   ]
  },
  {
   "cell_type": "code",
   "execution_count": 4,
   "metadata": {},
   "outputs": [],
   "source": [
    "TOATAL_NUM_IMAGES_PER_SCENE = 300.0\n",
    "TRAIN_IMAGES_TO_USE = int(TOATAL_NUM_IMAGES_PER_SCENE * 0.9) # default\n",
    "# TRAIN_IMAGES_TO_USE = 10\n",
    "\n",
    "split_ratio =  TRAIN_IMAGES_TO_USE / TOATAL_NUM_IMAGES_PER_SCENE\n",
    "TRAIN_SCENES = 10\n",
    "create_nesf_data_config(TRAIN_SCENES, \"train\", Path(f\"/data/vision/polina/projects/wmh/dhollidt/documents/nerf/data/klever_depth_normal_nesf_train_{TRAIN_SCENES}_{TRAIN_IMAGES_TO_USE}.json\"), split_ratio=split_ratio)\n",
    "TEST_SCNES = 17\n",
    "create_nesf_data_config(TEST_SCNES, \"test\", Path(f\"/data/vision/polina/projects/wmh/dhollidt/documents/nerf/data/klever_depth_normal_nesf_test_{TEST_SCNES}.json\"))"
   ]
  },
  {
   "cell_type": "code",
   "execution_count": 3,
   "metadata": {},
   "outputs": [],
   "source": [
    "TOATAL_NUM_IMAGES_PER_SCENE = 300.0\n",
    "TRAIN_IMAGES_TO_USE = int(300 * 0.9) # default\n",
    "# TRAIN_IMAGES_TO_USE = 10\n",
    "\n",
    "split_ratio =  TRAIN_IMAGES_TO_USE / TOATAL_NUM_IMAGES_PER_SCENE\n",
    "TRAIN_SCENES = 80\n",
    "create_nesf_data_config(TRAIN_SCENES, \"train\", Path(f\"/data/vision/polina/projects/wmh/dhollidt/documents/nerf/data/toybox-5_nesf_2_train_{TRAIN_SCENES}_{TRAIN_IMAGES_TO_USE}.json\"), split_ratio=split_ratio)\n",
    "TEST_SCNES = 17\n",
    "create_nesf_data_config(TEST_SCNES, \"test\", Path(f\"/data/vision/polina/projects/wmh/dhollidt/documents/nerf/data/toybox-5_nesf_2_test_{TEST_SCNES}.json\"))"
   ]
  },
  {
   "cell_type": "code",
   "execution_count": null,
   "metadata": {},
   "outputs": [],
   "source": []
  }
 ],
 "metadata": {
  "kernelspec": {
   "display_name": "nerfstudio3",
   "language": "python",
   "name": "python3"
  },
  "language_info": {
   "codemirror_mode": {
    "name": "ipython",
    "version": 3
   },
   "file_extension": ".py",
   "mimetype": "text/x-python",
   "name": "python",
   "nbconvert_exporter": "python",
   "pygments_lexer": "ipython3",
   "version": "3.8.16"
  },
  "orig_nbformat": 4
 },
 "nbformat": 4,
 "nbformat_minor": 2
}
