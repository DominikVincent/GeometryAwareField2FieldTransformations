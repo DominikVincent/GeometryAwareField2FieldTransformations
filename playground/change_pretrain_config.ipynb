{
 "cells": [
  {
   "cell_type": "code",
   "execution_count": 3,
   "metadata": {},
   "outputs": [],
   "source": [
    "from pathlib import Path\n",
    "import yaml\n",
    "\n",
    "\"\"\"_summary_\n",
    "script that loads certain configs of specified runs and then changes them such the model is loaded from that run but the \n",
    "results are written to a new run. This is needed if a model is to be trained on a pretrained one.\n",
    "The script sets the task to be semantic segmentation.\n",
    "\"\"\"\n",
    "\n",
    "def rewrite_config(config_path: Path):\n",
    "    # extend path to /config.yml if necessary\n",
    "    if config_path.is_dir():\n",
    "        config_path = config_path / \"config.yml\"\n",
    "    config = yaml.load(config_path.read_text(), Loader=yaml.Loader)\n",
    "    \n",
    "    checkpoint_dir = config.get_checkpoint_dir()\n",
    "    \n",
    "    config.timestamp = \"{timestamp}\"\n",
    "    config.set_timestamp()\n",
    "    \n",
    "    config.load_dir = checkpoint_dir\n",
    "    config.load_pretrained_model = True\n",
    "    \n",
    "    # remove the pretraining from the model config\n",
    "    config.pipeline.model.pretrain = False\n",
    "    config.pipeline.model.mode = \"semantics\"\n",
    "    \n",
    "    # update the save path\n",
    "    config.base_dir = config.get_base_dir()\n",
    "    \n",
    "    out_path = config_path.parent / \"auto_semantic_config.yml\"\n",
    "    out_path.write_text(yaml.dump(config), \"utf8\")\n",
    "    "
   ]
  },
  {
   "cell_type": "code",
   "execution_count": 4,
   "metadata": {},
   "outputs": [],
   "source": [
    "import time\n",
    "paths = [\n",
    "    Path(\"/YOUR/PATH/HERE/nesf_models/tmp/nesf/2023-05-09_162545\"),\n",
    "    # Path(\"//YOUR/PATH/HERE/nesf_models/tmp/nesf/2023-04-29_175231\"),\n",
    "    # Path(\"/YOUR/PATH/HERE/nesf_models/tmp/nesf/2023-03-28_160558\"),\n",
    "    # Path(\"/YOUR/PATH/HERE/nesf_models/tmp/nesf/2023-03-28_164449\"),\n",
    "    # Path(\"/YOUR/PATH/HERE/nesf_models/tmp/nesf/2023-03-28_161514\"),\n",
    "    # Path(\"/YOUR/PATH/HERE/nesf_models/tmp/nesf/2023-03-28_161854\"),\n",
    "]\n",
    "\n",
    "for path in paths:\n",
    "    rewrite_config(path)\n",
    "    time.sleep(2)"
   ]
  },
  {
   "cell_type": "code",
   "execution_count": null,
   "metadata": {},
   "outputs": [],
   "source": []
  }
 ],
 "metadata": {
  "kernelspec": {
   "display_name": "nerfstudio3",
   "language": "python",
   "name": "python3"
  },
  "language_info": {
   "codemirror_mode": {
    "name": "ipython",
    "version": 3
   },
   "file_extension": ".py",
   "mimetype": "text/x-python",
   "name": "python",
   "nbconvert_exporter": "python",
   "pygments_lexer": "ipython3",
   "version": "3.8.16"
  },
  "orig_nbformat": 4
 },
 "nbformat": 4,
 "nbformat_minor": 2
}
